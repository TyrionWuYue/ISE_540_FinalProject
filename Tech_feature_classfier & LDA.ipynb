{
 "cells": [
  {
   "cell_type": "markdown",
   "id": "1932b5f9",
   "metadata": {},
   "source": [
    "# <center> Project\n",
    "    \n",
    "<center> Anqi Zhu"
   ]
  },
  {
   "cell_type": "code",
   "execution_count": null,
   "id": "73eb2a84",
   "metadata": {},
   "outputs": [],
   "source": [
    "import re\n",
    "import numpy as np\n",
    "import pandas as pd\n",
    "import nltk\n",
    "from nltk.stem import WordNetLemmatizer\n",
    "from nltk.corpus import stopwords\n",
    "from cleantext import clean\n",
    "from nltk.stem import PorterStemmer\n",
    "\n",
    "from sklearn.feature_extraction.text import TfidfVectorizer\n",
    "\n",
    "import sklearn\n",
    "from sklearn.cluster import KMeans\n",
    "import matplotlib.pyplot as plt\n",
    "import seaborn as sns"
   ]
  },
  {
   "cell_type": "markdown",
   "id": "62d9663f",
   "metadata": {},
   "source": [
    "## Data Reading"
   ]
  },
  {
   "cell_type": "code",
   "execution_count": null,
   "id": "f02378f4",
   "metadata": {},
   "outputs": [],
   "source": [
    "df = pd.read_csv('EMB_goo.csv')\n",
    "df.head()"
   ]
  },
  {
   "cell_type": "markdown",
   "id": "3a0f0405",
   "metadata": {},
   "source": [
    "## Preprocessing"
   ]
  },
  {
   "cell_type": "code",
   "execution_count": null,
   "id": "56325650",
   "metadata": {},
   "outputs": [],
   "source": [
    "# drop unuseful column\n",
    "df = df.drop(\"Unnamed: 0\", axis=1)\n",
    "\n",
    "# remove emoji\n",
    "text_list = list(df['content'])\n",
    "text_list = [clean(i, no_emoji = True) for i in text_list]\n",
    "df['content'] = text_list\n",
    "\n",
    "# drop empty reviews\n",
    "for i in range(df.shape[0]):\n",
    "    curr_text = df['content'][i]\n",
    "    if len(curr_text) == 0:\n",
    "        df = df.drop(i, axis=0)"
   ]
  },
  {
   "cell_type": "code",
   "execution_count": null,
   "id": "8852fbdd",
   "metadata": {},
   "outputs": [],
   "source": [
    "REPLACE_BY_SPACE_RE = re.compile('[/(){}\\[\\]\\|@,;]')\n",
    "BAD_SYMBOLS_RE = re.compile('[^0-9a-z #+_]')\n",
    "REMOVE_NUM = re.compile('[\\d+]')\n",
    "STOPWORDS = set(stopwords.words('english'))\n",
    "en_words = set(nltk.corpus.words.words())\n",
    "stemmer = PorterStemmer()\n",
    "\n",
    "def clean_text(text):\n",
    "    \"\"\"\n",
    "    text: a string\n",
    "    return: modified initial string\n",
    "    \"\"\"\n",
    "    # lowercase text\n",
    "    text = text.lower() \n",
    "\n",
    "    # replace REPLACE_BY_SPACE_RE symbols by space in text\n",
    "    text = REPLACE_BY_SPACE_RE.sub(' ', text) \n",
    "    \n",
    "    # Remove the XXXX values\n",
    "    text = text.replace('x', '') \n",
    "    \n",
    "    # Remove white space\n",
    "    text = REMOVE_NUM.sub('', text)\n",
    "\n",
    "    #  delete symbols which are in BAD_SYMBOLS_RE from text\n",
    "    text = BAD_SYMBOLS_RE.sub('', text) \n",
    "\n",
    "    # delete stopwords from text\n",
    "    text = ' '.join(word for word in text.split() if word not in STOPWORDS) \n",
    "\n",
    "    # Stemming the words\n",
    "    text = ' '.join([stemmer.stem(word) for word in text.split()])\n",
    "    \n",
    "    # removing non-English words\n",
    "    text = ' '.join(word for word in text.split() if word in en_words)\n",
    "    \n",
    "    return text"
   ]
  },
  {
   "cell_type": "code",
   "execution_count": null,
   "id": "a8d592f5",
   "metadata": {},
   "outputs": [],
   "source": [
    "df['content'] = df['content'].apply(clean_text)"
   ]
  },
  {
   "cell_type": "code",
   "execution_count": null,
   "id": "f0a5e64b",
   "metadata": {},
   "outputs": [],
   "source": [
    "'''\n",
    "def drop_review(df, na_col=['content'], dup_col=['content', 'userName', 'at']):\n",
    "    df = df.dropna(subset=na_col) # drop NULL\n",
    "    df = df.drop_duplicates(subset=dup_col) # drop duplicated reviews\n",
    "    \n",
    "    return df\n",
    "\n",
    "stop_words = set(stopwords.words('english'))\n",
    "en_words = set(nltk.corpus.words.words('en'))\n",
    "lemmatizer = WordNetLemmatizer()\n",
    "\n",
    "def preprocessing(text):\n",
    "    \n",
    "    output = []\n",
    "    for i in range(len(text)):\n",
    "        text[i] = clean(text[i], no_emoji = True) # remove emojis\n",
    "        text[i] = text[i].lower() # lowercase\n",
    "        text[i] = re.sub(r'[^\\w\\s]','',text[i]) # remove puncuations\n",
    "        text[i] = re.sub(r'[0-9]+', '', text[i]) # remove numbers\n",
    "        text[i] = re.sub(r'http\\S+', '', text[i]) # remove links\n",
    "        text[i] = re.sub(r'[^\\x00-\\x7F]+','', text[i]) # remove non ascii words\n",
    "        \n",
    "        # tokens = nltk.word_tokenize(text[i])\n",
    "        # tokens = [lemmatizer.lemmatize(i) for i in tokens] # lemmatization\n",
    "        # tokens = [i for i in tokens if i not in stop_words] # remove stop words\n",
    "        # tokens = [i for i in tokens if i in en_words] # remove non English words\n",
    "        # tokens = [i for i in tokens if i in en_words or not i.isalpha()] # remove non English words\n",
    "        # output.append(tokens)\n",
    "        \n",
    "    \n",
    "    return text\n",
    "         \n",
    "'''\n"
   ]
  },
  {
   "cell_type": "code",
   "execution_count": null,
   "id": "ca90e5d5",
   "metadata": {},
   "outputs": [],
   "source": [
    "df"
   ]
  },
  {
   "cell_type": "markdown",
   "id": "ed19b257",
   "metadata": {},
   "source": [
    "## LDA"
   ]
  },
  {
   "cell_type": "code",
   "execution_count": null,
   "id": "7217a597",
   "metadata": {},
   "outputs": [],
   "source": [
    "from sklearn.feature_extraction.text import TfidfVectorizer, CountVectorizer\n",
    "from sklearn.decomposition import LatentDirichletAllocation"
   ]
  },
  {
   "cell_type": "code",
   "execution_count": null,
   "id": "2e486c62",
   "metadata": {},
   "outputs": [],
   "source": [
    "def print_top_words(model, feature_names, n_top_words):\n",
    "    tword = []\n",
    "    for topic_idx, topic in enumerate(model.components_):\n",
    "        print(\"Topic #%d:\" % topic_idx)\n",
    "        topic_w = \" \".join([feature_names[i] for i in topic.argsort()[:-n_top_words - 1:-1]])\n",
    "        tword.append(topic_w)\n",
    "        print(topic_w)\n",
    "    return tword"
   ]
  },
  {
   "cell_type": "code",
   "execution_count": null,
   "id": "c8494f4e",
   "metadata": {},
   "outputs": [],
   "source": [
    "n_features = 1000 # extract 1000 feature names\n",
    "tf_vectorizer = CountVectorizer(strip_accents = 'unicode',\n",
    "                                max_features=n_features,\n",
    "                                stop_words='english',\n",
    "                                max_df = 0.5,\n",
    "                                min_df = 10)\n",
    "tf = tf_vectorizer.fit_transform(df['content'])"
   ]
  },
  {
   "cell_type": "code",
   "execution_count": null,
   "id": "ab051b8d",
   "metadata": {},
   "outputs": [],
   "source": [
    "n_topics = 8\n",
    "lda = LatentDirichletAllocation(n_components=n_topics, max_iter=50,\n",
    "                                learning_method='batch',\n",
    "                                learning_offset=50,\n",
    "#                                 doc_topic_prior=0.1,\n",
    "#                                 topic_word_prior=0.01,\n",
    "                               random_state=0)\n",
    "lda.fit(tf)"
   ]
  },
  {
   "cell_type": "code",
   "execution_count": null,
   "id": "08cadeb5",
   "metadata": {},
   "outputs": [],
   "source": [
    "# output feature names of each topic\n",
    "n_top_words = 25\n",
    "tf_feature_names = tf_vectorizer.get_feature_names()\n",
    "topic_word = print_top_words(lda, tf_feature_names, n_top_words)"
   ]
  },
  {
   "cell_type": "markdown",
   "id": "69797d3f",
   "metadata": {},
   "source": [
    "## 2Vector"
   ]
  },
  {
   "cell_type": "code",
   "execution_count": null,
   "id": "747f0ba2",
   "metadata": {},
   "outputs": [],
   "source": [
    "my_stop_words = ['game', 'addict', 'like', 'enjoy', 'great', 'love', 'super', 'good', 'best', 'play', \n",
    "                 'entertain', 'got', 'cool', 'lot', 'time']\n",
    "from sklearn.feature_extraction import text \n",
    "stop_words = text.ENGLISH_STOP_WORDS.union(my_stop_words)\n"
   ]
  },
  {
   "cell_type": "code",
   "execution_count": null,
   "id": "c4ff12c5",
   "metadata": {},
   "outputs": [],
   "source": [
    "vectorizer = TfidfVectorizer(sublinear_tf= True, norm='l2', ngram_range = (1,2), max_df=0.2, min_df=10, stop_words=stop_words)\n",
    "X_train_vc = vectorizer.fit_transform(df[\"content\"])\n",
    "\n",
    "pd.DataFrame(X_train_vc.toarray(), columns=vectorizer.get_feature_names()).head()"
   ]
  },
  {
   "cell_type": "markdown",
   "id": "ea99a60c",
   "metadata": {},
   "source": [
    "## Clustering"
   ]
  },
  {
   "cell_type": "code",
   "execution_count": null,
   "id": "0f596ff1",
   "metadata": {},
   "outputs": [],
   "source": [
    "k_clusters = 6\n",
    "\n",
    "model = KMeans(n_clusters=k_clusters, init='k-means++', n_init=10, max_iter=600, tol=0.000001, random_state=0)\n",
    "model.fit(X_train_vc)\n",
    "clusters = model.predict(X_train_vc)\n",
    "df[\"ClusterName\"] = clusters"
   ]
  },
  {
   "cell_type": "code",
   "execution_count": null,
   "id": "603e4ea9",
   "metadata": {},
   "outputs": [],
   "source": [
    "def get_top_features_cluster(tf_idf_array, prediction, n_feats):\n",
    "    labels = np.unique(prediction)\n",
    "    dfs = []\n",
    "    for label in labels:\n",
    "        id_temp = np.where(prediction==label) # indices for each cluster\n",
    "        x_means = np.mean(tf_idf_array[id_temp], axis = 0) # returns average score across cluster\n",
    "        sorted_means = np.argsort(x_means)[::-1][:n_feats] # indices with top 20 scores\n",
    "        features = vectorizer.get_feature_names_out()\n",
    "        best_features = [(features[i], x_means[i]) for i in sorted_means]\n",
    "        df = pd.DataFrame(best_features, columns = ['features', 'score'])\n",
    "        dfs.append(df)\n",
    "    return dfs\n"
   ]
  },
  {
   "cell_type": "code",
   "execution_count": null,
   "id": "ea7d771f",
   "metadata": {},
   "outputs": [],
   "source": [
    "def plotWords(dfs, n_feats):\n",
    "    for i in range(0, len(dfs)):\n",
    "        plt.figure(figsize=(8, 2))\n",
    "        plt.title((\"Most Common Words in Cluster {}\".format(i)), fontsize=10, fontweight='bold')\n",
    "        sns.barplot(x = 'score' , y = 'features', orient = 'h' , data = dfs[i][:n_feats])\n"
   ]
  },
  {
   "cell_type": "code",
   "execution_count": null,
   "id": "9110f70c",
   "metadata": {},
   "outputs": [],
   "source": [
    "dfs = get_top_features_cluster(X_train_vc.toarray(), clusters, 15)\n",
    "plotWords(dfs, 15)"
   ]
  },
  {
   "cell_type": "code",
   "execution_count": null,
   "id": "e586431a",
   "metadata": {},
   "outputs": [],
   "source": [
    "df = pd.read_csv('emb_sentiscore.csv')"
   ]
  },
  {
   "cell_type": "code",
   "execution_count": null,
   "id": "c7c0d0cc",
   "metadata": {},
   "outputs": [],
   "source": [
    "df.head()"
   ]
  },
  {
   "cell_type": "markdown",
   "id": "210cfe9a",
   "metadata": {},
   "source": [
    "# Classifier"
   ]
  },
  {
   "cell_type": "code",
   "execution_count": 62,
   "id": "eb840555",
   "metadata": {},
   "outputs": [],
   "source": [
    "import pandas as pd\n",
    "import numpy as np\n",
    "\n",
    "import re\n",
    "import nltk\n",
    "from nltk.stem import PorterStemmer\n",
    "from nltk.stem import WordNetLemmatizer\n",
    "from nltk.corpus import stopwords\n",
    "from cleantext import clean\n",
    "\n",
    "# bag of words\n",
    "from sklearn.feature_extraction.text import TfidfVectorizer\n",
    "\n",
    "# for model-building\n",
    "from sklearn.model_selection import train_test_split\n",
    "\n",
    "from sklearn.linear_model import LogisticRegression\n",
    "from sklearn import tree\n",
    "from sklearn.naive_bayes import BernoulliNB\n",
    "from sklearn.svm import SVC\n",
    "from sklearn.linear_model import SGDClassifier\n",
    "from sklearn.neural_network import MLPClassifier\n",
    "\n",
    "\n",
    "from sklearn.metrics import classification_report, f1_score, accuracy_score, confusion_matrix\n",
    "from sklearn.metrics import roc_curve, auc, roc_auc_score\n",
    "\n",
    "import random"
   ]
  },
  {
   "cell_type": "markdown",
   "id": "ce5308f1",
   "metadata": {},
   "source": [
    "## ZAQ"
   ]
  },
  {
   "cell_type": "code",
   "execution_count": 2,
   "id": "cfa02ba4",
   "metadata": {},
   "outputs": [
    {
     "data": {
      "text/html": [
       "<div>\n",
       "<style scoped>\n",
       "    .dataframe tbody tr th:only-of-type {\n",
       "        vertical-align: middle;\n",
       "    }\n",
       "\n",
       "    .dataframe tbody tr th {\n",
       "        vertical-align: top;\n",
       "    }\n",
       "\n",
       "    .dataframe thead th {\n",
       "        text-align: right;\n",
       "    }\n",
       "</style>\n",
       "<table border=\"1\" class=\"dataframe\">\n",
       "  <thead>\n",
       "    <tr style=\"text-align: right;\">\n",
       "      <th></th>\n",
       "      <th>Unnamed: 0</th>\n",
       "      <th>userName</th>\n",
       "      <th>date</th>\n",
       "      <th>content</th>\n",
       "      <th>score</th>\n",
       "      <th>if_apple</th>\n",
       "      <th>if_useful</th>\n",
       "      <th>mechanism</th>\n",
       "      <th>ad</th>\n",
       "      <th>money</th>\n",
       "      <th>...</th>\n",
       "      <th>event</th>\n",
       "      <th>keyboard</th>\n",
       "      <th>IP</th>\n",
       "      <th>time/life</th>\n",
       "      <th>customer service</th>\n",
       "      <th>crush</th>\n",
       "      <th>data</th>\n",
       "      <th>system upgrad</th>\n",
       "      <th>connection</th>\n",
       "      <th>other-tech</th>\n",
       "    </tr>\n",
       "  </thead>\n",
       "  <tbody>\n",
       "    <tr>\n",
       "      <th>0</th>\n",
       "      <td>0</td>\n",
       "      <td>Cre8tiv99</td>\n",
       "      <td>2019-03-11 17:34:05</td>\n",
       "      <td>Hey guys, this is Bryce “Cre8tiv” Demby. Love ...</td>\n",
       "      <td>3</td>\n",
       "      <td>1</td>\n",
       "      <td>1.0</td>\n",
       "      <td>0.0</td>\n",
       "      <td>0.0</td>\n",
       "      <td>0.0</td>\n",
       "      <td>...</td>\n",
       "      <td>0.0</td>\n",
       "      <td>1.0</td>\n",
       "      <td>0.0</td>\n",
       "      <td>0.0</td>\n",
       "      <td>0.0</td>\n",
       "      <td>0.0</td>\n",
       "      <td>0.0</td>\n",
       "      <td>0.0</td>\n",
       "      <td>0.0</td>\n",
       "      <td>0.0</td>\n",
       "    </tr>\n",
       "    <tr>\n",
       "      <th>1</th>\n",
       "      <td>1</td>\n",
       "      <td>eclaitse25</td>\n",
       "      <td>2022-04-05 22:28:14</td>\n",
       "      <td>I don't want to bore you with a long review lo...</td>\n",
       "      <td>4</td>\n",
       "      <td>1</td>\n",
       "      <td>1.0</td>\n",
       "      <td>0.0</td>\n",
       "      <td>0.0</td>\n",
       "      <td>0.0</td>\n",
       "      <td>...</td>\n",
       "      <td>0.0</td>\n",
       "      <td>1.0</td>\n",
       "      <td>0.0</td>\n",
       "      <td>0.0</td>\n",
       "      <td>0.0</td>\n",
       "      <td>0.0</td>\n",
       "      <td>0.0</td>\n",
       "      <td>0.0</td>\n",
       "      <td>0.0</td>\n",
       "      <td>0.0</td>\n",
       "    </tr>\n",
       "    <tr>\n",
       "      <th>2</th>\n",
       "      <td>3</td>\n",
       "      <td>Jackieee003</td>\n",
       "      <td>2020-11-19 03:12:21</td>\n",
       "      <td>Fav game!! Love the challenges and Disney sett...</td>\n",
       "      <td>5</td>\n",
       "      <td>1</td>\n",
       "      <td>1.0</td>\n",
       "      <td>0.0</td>\n",
       "      <td>0.0</td>\n",
       "      <td>0.0</td>\n",
       "      <td>...</td>\n",
       "      <td>0.0</td>\n",
       "      <td>0.0</td>\n",
       "      <td>1.0</td>\n",
       "      <td>0.0</td>\n",
       "      <td>0.0</td>\n",
       "      <td>0.0</td>\n",
       "      <td>0.0</td>\n",
       "      <td>0.0</td>\n",
       "      <td>0.0</td>\n",
       "      <td>0.0</td>\n",
       "    </tr>\n",
       "    <tr>\n",
       "      <th>3</th>\n",
       "      <td>5</td>\n",
       "      <td>tab the great</td>\n",
       "      <td>2021-11-13 03:55:52</td>\n",
       "      <td>This game is great for all ages and fun to play!</td>\n",
       "      <td>5</td>\n",
       "      <td>1</td>\n",
       "      <td>1.0</td>\n",
       "      <td>0.0</td>\n",
       "      <td>0.0</td>\n",
       "      <td>0.0</td>\n",
       "      <td>...</td>\n",
       "      <td>0.0</td>\n",
       "      <td>0.0</td>\n",
       "      <td>0.0</td>\n",
       "      <td>1.0</td>\n",
       "      <td>0.0</td>\n",
       "      <td>0.0</td>\n",
       "      <td>0.0</td>\n",
       "      <td>0.0</td>\n",
       "      <td>0.0</td>\n",
       "      <td>0.0</td>\n",
       "    </tr>\n",
       "    <tr>\n",
       "      <th>4</th>\n",
       "      <td>6</td>\n",
       "      <td>Roberts232</td>\n",
       "      <td>2018-03-08 06:26:19</td>\n",
       "      <td>Special Disney emoji earned through play.</td>\n",
       "      <td>3</td>\n",
       "      <td>1</td>\n",
       "      <td>1.0</td>\n",
       "      <td>0.0</td>\n",
       "      <td>0.0</td>\n",
       "      <td>0.0</td>\n",
       "      <td>...</td>\n",
       "      <td>0.0</td>\n",
       "      <td>1.0</td>\n",
       "      <td>0.0</td>\n",
       "      <td>0.0</td>\n",
       "      <td>0.0</td>\n",
       "      <td>0.0</td>\n",
       "      <td>0.0</td>\n",
       "      <td>0.0</td>\n",
       "      <td>0.0</td>\n",
       "      <td>0.0</td>\n",
       "    </tr>\n",
       "  </tbody>\n",
       "</table>\n",
       "<p>5 rows × 21 columns</p>\n",
       "</div>"
      ],
      "text/plain": [
       "   Unnamed: 0       userName                 date  \\\n",
       "0           0      Cre8tiv99  2019-03-11 17:34:05   \n",
       "1           1     eclaitse25  2022-04-05 22:28:14   \n",
       "2           3    Jackieee003  2020-11-19 03:12:21   \n",
       "3           5  tab the great  2021-11-13 03:55:52   \n",
       "4           6     Roberts232  2018-03-08 06:26:19   \n",
       "\n",
       "                                             content  score  if_apple  \\\n",
       "0  Hey guys, this is Bryce “Cre8tiv” Demby. Love ...      3         1   \n",
       "1  I don't want to bore you with a long review lo...      4         1   \n",
       "2  Fav game!! Love the challenges and Disney sett...      5         1   \n",
       "3   This game is great for all ages and fun to play!      5         1   \n",
       "4          Special Disney emoji earned through play.      3         1   \n",
       "\n",
       "   if_useful  mechanism   ad  money  ...  event keyboard   IP  time/life  \\\n",
       "0        1.0        0.0  0.0    0.0  ...    0.0      1.0  0.0        0.0   \n",
       "1        1.0        0.0  0.0    0.0  ...    0.0      1.0  0.0        0.0   \n",
       "2        1.0        0.0  0.0    0.0  ...    0.0      0.0  1.0        0.0   \n",
       "3        1.0        0.0  0.0    0.0  ...    0.0      0.0  0.0        1.0   \n",
       "4        1.0        0.0  0.0    0.0  ...    0.0      1.0  0.0        0.0   \n",
       "\n",
       "   customer service  crush  data  system upgrad  connection  other-tech  \n",
       "0               0.0    0.0   0.0            0.0         0.0         0.0  \n",
       "1               0.0    0.0   0.0            0.0         0.0         0.0  \n",
       "2               0.0    0.0   0.0            0.0         0.0         0.0  \n",
       "3               0.0    0.0   0.0            0.0         0.0         0.0  \n",
       "4               0.0    0.0   0.0            0.0         0.0         0.0  \n",
       "\n",
       "[5 rows x 21 columns]"
      ]
     },
     "execution_count": 2,
     "metadata": {},
     "output_type": "execute_result"
    }
   ],
   "source": [
    "df = pd.read_csv('labelled_all.csv')\n",
    "df.head()"
   ]
  },
  {
   "cell_type": "code",
   "execution_count": 3,
   "id": "bae815b9",
   "metadata": {},
   "outputs": [
    {
     "data": {
      "text/html": [
       "<div>\n",
       "<style scoped>\n",
       "    .dataframe tbody tr th:only-of-type {\n",
       "        vertical-align: middle;\n",
       "    }\n",
       "\n",
       "    .dataframe tbody tr th {\n",
       "        vertical-align: top;\n",
       "    }\n",
       "\n",
       "    .dataframe thead th {\n",
       "        text-align: right;\n",
       "    }\n",
       "</style>\n",
       "<table border=\"1\" class=\"dataframe\">\n",
       "  <thead>\n",
       "    <tr style=\"text-align: right;\">\n",
       "      <th></th>\n",
       "      <th>content</th>\n",
       "      <th>if_apple</th>\n",
       "      <th>if_useful</th>\n",
       "      <th>system upgrad</th>\n",
       "      <th>connection</th>\n",
       "      <th>other-tech</th>\n",
       "    </tr>\n",
       "  </thead>\n",
       "  <tbody>\n",
       "    <tr>\n",
       "      <th>0</th>\n",
       "      <td>Hey guys, this is Bryce “Cre8tiv” Demby. Love ...</td>\n",
       "      <td>1</td>\n",
       "      <td>1.0</td>\n",
       "      <td>0.0</td>\n",
       "      <td>0.0</td>\n",
       "      <td>0.0</td>\n",
       "    </tr>\n",
       "    <tr>\n",
       "      <th>1</th>\n",
       "      <td>I don't want to bore you with a long review lo...</td>\n",
       "      <td>1</td>\n",
       "      <td>1.0</td>\n",
       "      <td>0.0</td>\n",
       "      <td>0.0</td>\n",
       "      <td>0.0</td>\n",
       "    </tr>\n",
       "    <tr>\n",
       "      <th>2</th>\n",
       "      <td>Fav game!! Love the challenges and Disney sett...</td>\n",
       "      <td>1</td>\n",
       "      <td>1.0</td>\n",
       "      <td>0.0</td>\n",
       "      <td>0.0</td>\n",
       "      <td>0.0</td>\n",
       "    </tr>\n",
       "    <tr>\n",
       "      <th>3</th>\n",
       "      <td>This game is great for all ages and fun to play!</td>\n",
       "      <td>1</td>\n",
       "      <td>1.0</td>\n",
       "      <td>0.0</td>\n",
       "      <td>0.0</td>\n",
       "      <td>0.0</td>\n",
       "    </tr>\n",
       "    <tr>\n",
       "      <th>4</th>\n",
       "      <td>Special Disney emoji earned through play.</td>\n",
       "      <td>1</td>\n",
       "      <td>1.0</td>\n",
       "      <td>0.0</td>\n",
       "      <td>0.0</td>\n",
       "      <td>0.0</td>\n",
       "    </tr>\n",
       "  </tbody>\n",
       "</table>\n",
       "</div>"
      ],
      "text/plain": [
       "                                             content  if_apple  if_useful  \\\n",
       "0  Hey guys, this is Bryce “Cre8tiv” Demby. Love ...         1        1.0   \n",
       "1  I don't want to bore you with a long review lo...         1        1.0   \n",
       "2  Fav game!! Love the challenges and Disney sett...         1        1.0   \n",
       "3   This game is great for all ages and fun to play!         1        1.0   \n",
       "4          Special Disney emoji earned through play.         1        1.0   \n",
       "\n",
       "   system upgrad  connection  other-tech  \n",
       "0            0.0         0.0         0.0  \n",
       "1            0.0         0.0         0.0  \n",
       "2            0.0         0.0         0.0  \n",
       "3            0.0         0.0         0.0  \n",
       "4            0.0         0.0         0.0  "
      ]
     },
     "execution_count": 3,
     "metadata": {},
     "output_type": "execute_result"
    }
   ],
   "source": [
    "df = df[['content', 'if_apple', 'if_useful', 'system upgrad', 'connection', 'other-tech']].copy()\n",
    "df.head()"
   ]
  },
  {
   "cell_type": "code",
   "execution_count": null,
   "id": "002e5122",
   "metadata": {},
   "outputs": [],
   "source": [
    "df.info()"
   ]
  },
  {
   "cell_type": "code",
   "execution_count": 4,
   "id": "e949c6b7",
   "metadata": {},
   "outputs": [],
   "source": [
    "float_to_int = ['if_useful', 'system upgrad', 'connection', 'other-tech'] \n",
    "object_to_str = ['content']\n",
    "df[float_to_int] = df[float_to_int].astype('int')\n",
    "df[object_to_str] = df[object_to_str].astype('string')"
   ]
  },
  {
   "cell_type": "code",
   "execution_count": null,
   "id": "e19a5918",
   "metadata": {},
   "outputs": [],
   "source": [
    "df['if_useful'].value_counts()"
   ]
  },
  {
   "cell_type": "code",
   "execution_count": 5,
   "id": "782bb7d3",
   "metadata": {},
   "outputs": [],
   "source": [
    "df['if_useful'] = df['if_useful'].map({1:1, 0:0, -1:0})"
   ]
  },
  {
   "cell_type": "code",
   "execution_count": 6,
   "id": "d0de9e25",
   "metadata": {},
   "outputs": [
    {
     "name": "stdout",
     "output_type": "stream",
     "text": [
      "<class 'pandas.core.frame.DataFrame'>\n",
      "RangeIndex: 5000 entries, 0 to 4999\n",
      "Data columns (total 6 columns):\n",
      " #   Column         Non-Null Count  Dtype \n",
      "---  ------         --------------  ----- \n",
      " 0   content        5000 non-null   string\n",
      " 1   if_apple       5000 non-null   int64 \n",
      " 2   if_useful      5000 non-null   int64 \n",
      " 3   system upgrad  5000 non-null   int64 \n",
      " 4   connection     5000 non-null   int64 \n",
      " 5   other-tech     5000 non-null   int64 \n",
      "dtypes: int64(5), string(1)\n",
      "memory usage: 234.5 KB\n"
     ]
    }
   ],
   "source": [
    "df.info()"
   ]
  },
  {
   "cell_type": "markdown",
   "id": "fc9087a7",
   "metadata": {},
   "source": [
    "## Text Clean & Modeling"
   ]
  },
  {
   "cell_type": "code",
   "execution_count": 7,
   "id": "af15d43e",
   "metadata": {},
   "outputs": [],
   "source": [
    "REPLACE_BY_SPACE_RE = re.compile('[/(){}\\[\\]\\|@,;]')\n",
    "BAD_SYMBOLS_RE = re.compile('[^0-9a-z #+_]')\n",
    "REMOVE_NUM = re.compile('[\\d+]')\n",
    "STOPWORDS = set(stopwords.words('english'))\n",
    "en_words = set(nltk.corpus.words.words())\n",
    "stemmer = PorterStemmer()\n",
    "\n",
    "def clean_text(text):\n",
    "    \"\"\"\n",
    "    text: a string\n",
    "    return: modified initial string\n",
    "    \"\"\"\n",
    "    # lowercase text\n",
    "    text = text.lower() \n",
    "\n",
    "    # replace REPLACE_BY_SPACE_RE symbols by space in text\n",
    "    text = REPLACE_BY_SPACE_RE.sub(' ', text) \n",
    "    \n",
    "    # Remove the XXXX values\n",
    "    text = text.replace('x', '') \n",
    "    \n",
    "    # Remove white space\n",
    "    text = REMOVE_NUM.sub('', text)\n",
    "\n",
    "    #  delete symbols which are in BAD_SYMBOLS_RE from text\n",
    "    text = BAD_SYMBOLS_RE.sub('', text) \n",
    "\n",
    "    # delete stopwords from text\n",
    "    text = ' '.join(word for word in text.split() if word not in STOPWORDS) \n",
    "\n",
    "    # Stemming the words\n",
    "    text = ' '.join([stemmer.stem(word) for word in text.split()])\n",
    "    \n",
    "    # removing non-English words\n",
    "    text = ' '.join(word for word in text.split() if word in en_words)\n",
    "    \n",
    "    return text"
   ]
  },
  {
   "cell_type": "code",
   "execution_count": 8,
   "id": "7ecd9b1b",
   "metadata": {},
   "outputs": [
    {
     "name": "stdout",
     "output_type": "stream",
     "text": [
      "<class 'pandas.core.frame.DataFrame'>\n",
      "RangeIndex: 5000 entries, 0 to 4999\n",
      "Data columns (total 6 columns):\n",
      " #   Column         Non-Null Count  Dtype \n",
      "---  ------         --------------  ----- \n",
      " 0   content        5000 non-null   object\n",
      " 1   if_apple       5000 non-null   int64 \n",
      " 2   if_useful      5000 non-null   int64 \n",
      " 3   system upgrad  5000 non-null   int64 \n",
      " 4   connection     5000 non-null   int64 \n",
      " 5   other-tech     5000 non-null   int64 \n",
      "dtypes: int64(5), object(1)\n",
      "memory usage: 234.5+ KB\n"
     ]
    }
   ],
   "source": [
    "df['content'] = df['content'].apply(clean_text)\n",
    "df.info()"
   ]
  },
  {
   "cell_type": "markdown",
   "id": "d80e326f",
   "metadata": {},
   "source": [
    "## Modeling"
   ]
  },
  {
   "cell_type": "code",
   "execution_count": 10,
   "id": "061270bc",
   "metadata": {},
   "outputs": [],
   "source": [
    "def train_models(X_train, y_train, model):\n",
    "    \n",
    "    if model == 'logistic_regression':\n",
    "        clf = LogisticRegression()\n",
    "        \n",
    "    elif model == 'decision_tree':\n",
    "        clf = tree.DecisionTreeClassifier()\n",
    "        \n",
    "    elif model == 'naive_bayes':\n",
    "        clf = BernoulliNB()\n",
    "        \n",
    "    elif model == 'SVC':\n",
    "        clf = SVC(kernel='linear', probability=True) \n",
    "        \n",
    "    elif model == 'SGD':\n",
    "        clf = SGDClassifier(loss='modified_huber')\n",
    "       \n",
    "    elif model == 'NN': \n",
    "        clf = MLPClassifier()\n",
    "   \n",
    "    else:\n",
    "        print('Legit model: logistic_regression, decision_tree, naive_bayes, SVC, SGD, NN')\n",
    "    \n",
    "    clf = clf.fit(X_train, y_train)  \n",
    "    \n",
    "    return clf\n",
    " "
   ]
  },
  {
   "cell_type": "code",
   "execution_count": 11,
   "id": "e46d8fc2",
   "metadata": {},
   "outputs": [],
   "source": [
    "def evaluate_models(model, clf, X, y):\n",
    "    '''\n",
    "    input: \n",
    "        clf\n",
    "        X = X_valid_vectors_tfidf | X_test_vectors_tfidf\n",
    "        y = y_valid | y_test\n",
    "        \n",
    "    output: precision, recall, F1(macro, micro), acc\n",
    "    '''\n",
    "    y_predict = clf.predict(X_valid_vectors_tfidf)\n",
    "    y_prob = clf.predict_proba(X_valid_vectors_tfidf)[:,1]\n",
    "    \n",
    "    print(classification_report(y_valid, y_predict))\n",
    "    print('Confusion Matrix:\\n',confusion_matrix(y_valid, y_predict))\n",
    "    \n",
    "    # fpr, tpr, thresholds = roc_curve(y_valid, y_prob)\n",
    "    # roc_auc = auc(fpr, tpr)\n",
    "    # print('AUC:', roc_auc) \n",
    "    print(md, '-------------------------')\n",
    " "
   ]
  },
  {
   "cell_type": "code",
   "execution_count": 60,
   "id": "242850cf",
   "metadata": {},
   "outputs": [],
   "source": [
    "def baseline(X_train, y_train, X_test, y_test):\n",
    "    seq = y_train.unique()\n",
    "    prob = []\n",
    "    for i in range(len(seq)):\n",
    "        curr_value = seq[i]\n",
    "        prob.append(len([i for i in y_train if i == curr_value]) / len(y_train))\n",
    "    acc_scores = []\n",
    "    for i in range(1,10000):\n",
    "        random_choice = random.choices(seq, weights = prob, k = len(y_test))\n",
    "        acc_scores.append(accuracy_score(y_test, random_choice))\n",
    "        \n",
    "    return np.mean(acc_scores)"
   ]
  },
  {
   "cell_type": "markdown",
   "id": "e881764c",
   "metadata": {},
   "source": [
    "### 1-1 content - system upgrad "
   ]
  },
  {
   "cell_type": "code",
   "execution_count": 92,
   "id": "fba7b35d",
   "metadata": {},
   "outputs": [],
   "source": [
    "X = df['content'] # , 'if_apple', 'if_useful'\n",
    "y = df['system upgrad']\n",
    "# np.random.seed(42)\n",
    "# split the data in training and remaining dataset\n",
    "X_train, X_rem, y_train, y_rem = train_test_split(X, y, train_size=0.6, stratify=y)\n",
    "# split the remaining to validation and test \n",
    "X_valid, X_test, y_valid, y_test = train_test_split(X_rem, y_rem, train_size=0.5, stratify=y_rem)\n",
    "\n",
    "# TF-IDF \n",
    "tfidf_vectorizer = TfidfVectorizer()\n",
    "X_train_vectors_tfidf = tfidf_vectorizer.fit_transform(X_train) \n",
    "X_valid_vectors_tfidf = tfidf_vectorizer.transform(X_valid) \n",
    "# X_test_vectors_tfidf = tfidf_vectorizer.transform(X_test) \n",
    "\n"
   ]
  },
  {
   "cell_type": "code",
   "execution_count": 93,
   "id": "98731dda",
   "metadata": {},
   "outputs": [
    {
     "name": "stderr",
     "output_type": "stream",
     "text": [
      "/Users/anqizhu/opt/anaconda3/lib/python3.9/site-packages/sklearn/metrics/_classification.py:1318: UndefinedMetricWarning: Precision and F-score are ill-defined and being set to 0.0 in labels with no predicted samples. Use `zero_division` parameter to control this behavior.\n",
      "  _warn_prf(average, modifier, msg_start, len(result))\n",
      "/Users/anqizhu/opt/anaconda3/lib/python3.9/site-packages/sklearn/metrics/_classification.py:1318: UndefinedMetricWarning: Precision and F-score are ill-defined and being set to 0.0 in labels with no predicted samples. Use `zero_division` parameter to control this behavior.\n",
      "  _warn_prf(average, modifier, msg_start, len(result))\n",
      "/Users/anqizhu/opt/anaconda3/lib/python3.9/site-packages/sklearn/metrics/_classification.py:1318: UndefinedMetricWarning: Precision and F-score are ill-defined and being set to 0.0 in labels with no predicted samples. Use `zero_division` parameter to control this behavior.\n",
      "  _warn_prf(average, modifier, msg_start, len(result))\n",
      "/Users/anqizhu/opt/anaconda3/lib/python3.9/site-packages/sklearn/metrics/_classification.py:1318: UndefinedMetricWarning: Precision and F-score are ill-defined and being set to 0.0 in labels with no predicted samples. Use `zero_division` parameter to control this behavior.\n",
      "  _warn_prf(average, modifier, msg_start, len(result))\n",
      "/Users/anqizhu/opt/anaconda3/lib/python3.9/site-packages/sklearn/metrics/_classification.py:1318: UndefinedMetricWarning: Precision and F-score are ill-defined and being set to 0.0 in labels with no predicted samples. Use `zero_division` parameter to control this behavior.\n",
      "  _warn_prf(average, modifier, msg_start, len(result))\n",
      "/Users/anqizhu/opt/anaconda3/lib/python3.9/site-packages/sklearn/metrics/_classification.py:1318: UndefinedMetricWarning: Precision and F-score are ill-defined and being set to 0.0 in labels with no predicted samples. Use `zero_division` parameter to control this behavior.\n",
      "  _warn_prf(average, modifier, msg_start, len(result))\n"
     ]
    },
    {
     "name": "stdout",
     "output_type": "stream",
     "text": [
      "              precision    recall  f1-score   support\n",
      "\n",
      "          -1       0.00      0.00      0.00        21\n",
      "           0       0.98      1.00      0.99       976\n",
      "           1       0.00      0.00      0.00         3\n",
      "\n",
      "    accuracy                           0.98      1000\n",
      "   macro avg       0.33      0.33      0.33      1000\n",
      "weighted avg       0.95      0.98      0.96      1000\n",
      "\n",
      "Confusion Matrix:\n",
      " [[  0  21   0]\n",
      " [  0 976   0]\n",
      " [  0   3   0]]\n",
      "logistic_regression -------------------------\n",
      "              precision    recall  f1-score   support\n",
      "\n",
      "          -1       0.06      0.05      0.05        21\n",
      "           0       0.98      0.98      0.98       976\n",
      "           1       0.33      0.33      0.33         3\n",
      "\n",
      "    accuracy                           0.96      1000\n",
      "   macro avg       0.46      0.45      0.46      1000\n",
      "weighted avg       0.96      0.96      0.96      1000\n",
      "\n",
      "Confusion Matrix:\n",
      " [[  1  20   0]\n",
      " [ 15 959   2]\n",
      " [  0   2   1]]\n",
      "decision_tree -------------------------\n",
      "              precision    recall  f1-score   support\n",
      "\n",
      "          -1       0.05      0.10      0.07        21\n",
      "           0       0.98      0.96      0.97       976\n",
      "           1       0.00      0.00      0.00         3\n",
      "\n",
      "    accuracy                           0.94      1000\n",
      "   macro avg       0.34      0.35      0.35      1000\n",
      "weighted avg       0.95      0.94      0.95      1000\n",
      "\n",
      "Confusion Matrix:\n",
      " [[  2  19   0]\n",
      " [ 35 941   0]\n",
      " [  0   3   0]]\n",
      "naive_bayes -------------------------\n"
     ]
    },
    {
     "name": "stderr",
     "output_type": "stream",
     "text": [
      "/Users/anqizhu/opt/anaconda3/lib/python3.9/site-packages/sklearn/metrics/_classification.py:1318: UndefinedMetricWarning: Precision and F-score are ill-defined and being set to 0.0 in labels with no predicted samples. Use `zero_division` parameter to control this behavior.\n",
      "  _warn_prf(average, modifier, msg_start, len(result))\n",
      "/Users/anqizhu/opt/anaconda3/lib/python3.9/site-packages/sklearn/metrics/_classification.py:1318: UndefinedMetricWarning: Precision and F-score are ill-defined and being set to 0.0 in labels with no predicted samples. Use `zero_division` parameter to control this behavior.\n",
      "  _warn_prf(average, modifier, msg_start, len(result))\n",
      "/Users/anqizhu/opt/anaconda3/lib/python3.9/site-packages/sklearn/metrics/_classification.py:1318: UndefinedMetricWarning: Precision and F-score are ill-defined and being set to 0.0 in labels with no predicted samples. Use `zero_division` parameter to control this behavior.\n",
      "  _warn_prf(average, modifier, msg_start, len(result))\n",
      "/Users/anqizhu/opt/anaconda3/lib/python3.9/site-packages/sklearn/metrics/_classification.py:1318: UndefinedMetricWarning: Precision and F-score are ill-defined and being set to 0.0 in labels with no predicted samples. Use `zero_division` parameter to control this behavior.\n",
      "  _warn_prf(average, modifier, msg_start, len(result))\n",
      "/Users/anqizhu/opt/anaconda3/lib/python3.9/site-packages/sklearn/metrics/_classification.py:1318: UndefinedMetricWarning: Precision and F-score are ill-defined and being set to 0.0 in labels with no predicted samples. Use `zero_division` parameter to control this behavior.\n",
      "  _warn_prf(average, modifier, msg_start, len(result))\n",
      "/Users/anqizhu/opt/anaconda3/lib/python3.9/site-packages/sklearn/metrics/_classification.py:1318: UndefinedMetricWarning: Precision and F-score are ill-defined and being set to 0.0 in labels with no predicted samples. Use `zero_division` parameter to control this behavior.\n",
      "  _warn_prf(average, modifier, msg_start, len(result))\n"
     ]
    },
    {
     "name": "stdout",
     "output_type": "stream",
     "text": [
      "              precision    recall  f1-score   support\n",
      "\n",
      "          -1       0.00      0.00      0.00        21\n",
      "           0       0.98      1.00      0.99       976\n",
      "           1       0.00      0.00      0.00         3\n",
      "\n",
      "    accuracy                           0.98      1000\n",
      "   macro avg       0.33      0.33      0.33      1000\n",
      "weighted avg       0.95      0.98      0.96      1000\n",
      "\n",
      "Confusion Matrix:\n",
      " [[  0  21   0]\n",
      " [  0 976   0]\n",
      " [  0   3   0]]\n",
      "SVC -------------------------\n",
      "              precision    recall  f1-score   support\n",
      "\n",
      "          -1       0.17      0.10      0.12        21\n",
      "           0       0.98      0.99      0.98       976\n",
      "           1       0.00      0.00      0.00         3\n",
      "\n",
      "    accuracy                           0.97      1000\n",
      "   macro avg       0.38      0.36      0.37      1000\n",
      "weighted avg       0.96      0.97      0.96      1000\n",
      "\n",
      "Confusion Matrix:\n",
      " [[  2  19   0]\n",
      " [ 10 966   0]\n",
      " [  0   3   0]]\n",
      "SGD -------------------------\n",
      "              precision    recall  f1-score   support\n",
      "\n",
      "          -1       0.30      0.14      0.19        21\n",
      "           0       0.98      0.99      0.99       976\n",
      "           1       0.00      0.00      0.00         3\n",
      "\n",
      "    accuracy                           0.97      1000\n",
      "   macro avg       0.43      0.38      0.39      1000\n",
      "weighted avg       0.96      0.97      0.97      1000\n",
      "\n",
      "Confusion Matrix:\n",
      " [[  3  18   0]\n",
      " [  7 969   0]\n",
      " [  0   3   0]]\n",
      "NN -------------------------\n"
     ]
    },
    {
     "name": "stderr",
     "output_type": "stream",
     "text": [
      "/Users/anqizhu/opt/anaconda3/lib/python3.9/site-packages/sklearn/metrics/_classification.py:1318: UndefinedMetricWarning: Precision and F-score are ill-defined and being set to 0.0 in labels with no predicted samples. Use `zero_division` parameter to control this behavior.\n",
      "  _warn_prf(average, modifier, msg_start, len(result))\n",
      "/Users/anqizhu/opt/anaconda3/lib/python3.9/site-packages/sklearn/metrics/_classification.py:1318: UndefinedMetricWarning: Precision and F-score are ill-defined and being set to 0.0 in labels with no predicted samples. Use `zero_division` parameter to control this behavior.\n",
      "  _warn_prf(average, modifier, msg_start, len(result))\n",
      "/Users/anqizhu/opt/anaconda3/lib/python3.9/site-packages/sklearn/metrics/_classification.py:1318: UndefinedMetricWarning: Precision and F-score are ill-defined and being set to 0.0 in labels with no predicted samples. Use `zero_division` parameter to control this behavior.\n",
      "  _warn_prf(average, modifier, msg_start, len(result))\n"
     ]
    }
   ],
   "source": [
    "models = ['logistic_regression', 'decision_tree', 'naive_bayes', 'SVC', 'SGD', 'NN']\n",
    "for md in models:\n",
    "    clf = train_models(X_train_vectors_tfidf, y_train, md)\n",
    "    evaluate_models(md, clf, X_valid_vectors_tfidf, y_valid)\n"
   ]
  },
  {
   "cell_type": "code",
   "execution_count": 94,
   "id": "52b8a755",
   "metadata": {},
   "outputs": [
    {
     "data": {
      "text/plain": [
       "0.9527087708770877"
      ]
     },
     "execution_count": 94,
     "metadata": {},
     "output_type": "execute_result"
    }
   ],
   "source": [
    "baseline(X_train_vectors_tfidf, y_train, X_valid_vectors_tfidf, y_valid)"
   ]
  },
  {
   "cell_type": "markdown",
   "id": "8cc11526",
   "metadata": {},
   "source": [
    "### 1-3 content & apple & useful - system upgrad"
   ]
  },
  {
   "cell_type": "code",
   "execution_count": 56,
   "id": "222e8380",
   "metadata": {},
   "outputs": [],
   "source": [
    "X = df[['content', 'if_apple', 'if_useful']]  # , 'if_apple', 'if_useful'\n",
    "y = df['system upgrad']\n",
    "# np.random.seed(42)\n",
    "# split the data in training and remaining dataset\n",
    "X_train, X_rem, y_train, y_rem = train_test_split(X, y, train_size=0.6, stratify=y)\n",
    "# split the remaining to validation and test \n",
    "X_valid, X_test, y_valid, y_test = train_test_split(X_rem, y_rem, train_size=0.5, stratify=y_rem)\n",
    "\n",
    "# TF-IDF \n",
    "tfidf_vectorizer = TfidfVectorizer()\n",
    "X_train_vectors_tfidf = tfidf_vectorizer.fit_transform(X_train.iloc[:, 0]) \n",
    "X_valid_vectors_tfidf = tfidf_vectorizer.transform(X_valid.iloc[:, 0]) \n",
    "# X_test_vectors_tfidf = tfidf_vectorizer.transform(X_test) \n"
   ]
  },
  {
   "cell_type": "code",
   "execution_count": 57,
   "id": "28605942",
   "metadata": {},
   "outputs": [
    {
     "name": "stdout",
     "output_type": "stream",
     "text": [
      "(3000, 1276)\n",
      "(1000, 1276)\n"
     ]
    }
   ],
   "source": [
    "print(X_train_vectors_tfidf.shape)\n",
    "print(X_valid_vectors_tfidf.shape)"
   ]
  },
  {
   "cell_type": "code",
   "execution_count": 58,
   "id": "69c75b78",
   "metadata": {},
   "outputs": [
    {
     "name": "stdout",
     "output_type": "stream",
     "text": [
      "(3000, 1279)\n",
      "(1000, 1279)\n"
     ]
    }
   ],
   "source": [
    "X_train_vectors_tfidf = pd.DataFrame(X_train_vectors_tfidf.toarray()).join(X_train[['if_apple', 'if_useful']].reset_index())\n",
    "X_valid_vectors_tfidf = pd.DataFrame(X_valid_vectors_tfidf.toarray()).join(X_valid[['if_apple', 'if_useful']].reset_index())\n",
    "print(X_train_vectors_tfidf.shape)\n",
    "print(X_valid_vectors_tfidf.shape)"
   ]
  },
  {
   "cell_type": "code",
   "execution_count": 59,
   "id": "6f27ef01",
   "metadata": {},
   "outputs": [
    {
     "name": "stderr",
     "output_type": "stream",
     "text": [
      "/Users/anqizhu/opt/anaconda3/lib/python3.9/site-packages/sklearn/utils/validation.py:1688: FutureWarning: Feature names only support names that are all strings. Got feature names with dtypes: ['int', 'str']. An error will be raised in 1.2.\n",
      "  warnings.warn(\n",
      "/Users/anqizhu/opt/anaconda3/lib/python3.9/site-packages/sklearn/linear_model/_logistic.py:814: ConvergenceWarning: lbfgs failed to converge (status=1):\n",
      "STOP: TOTAL NO. of ITERATIONS REACHED LIMIT.\n",
      "\n",
      "Increase the number of iterations (max_iter) or scale the data as shown in:\n",
      "    https://scikit-learn.org/stable/modules/preprocessing.html\n",
      "Please also refer to the documentation for alternative solver options:\n",
      "    https://scikit-learn.org/stable/modules/linear_model.html#logistic-regression\n",
      "  n_iter_i = _check_optimize_result(\n",
      "/Users/anqizhu/opt/anaconda3/lib/python3.9/site-packages/sklearn/utils/validation.py:1688: FutureWarning: Feature names only support names that are all strings. Got feature names with dtypes: ['int', 'str']. An error will be raised in 1.2.\n",
      "  warnings.warn(\n",
      "/Users/anqizhu/opt/anaconda3/lib/python3.9/site-packages/sklearn/utils/validation.py:1688: FutureWarning: Feature names only support names that are all strings. Got feature names with dtypes: ['int', 'str']. An error will be raised in 1.2.\n",
      "  warnings.warn(\n",
      "/Users/anqizhu/opt/anaconda3/lib/python3.9/site-packages/sklearn/metrics/_classification.py:1318: UndefinedMetricWarning: Precision and F-score are ill-defined and being set to 0.0 in labels with no predicted samples. Use `zero_division` parameter to control this behavior.\n",
      "  _warn_prf(average, modifier, msg_start, len(result))\n",
      "/Users/anqizhu/opt/anaconda3/lib/python3.9/site-packages/sklearn/metrics/_classification.py:1318: UndefinedMetricWarning: Precision and F-score are ill-defined and being set to 0.0 in labels with no predicted samples. Use `zero_division` parameter to control this behavior.\n",
      "  _warn_prf(average, modifier, msg_start, len(result))\n",
      "/Users/anqizhu/opt/anaconda3/lib/python3.9/site-packages/sklearn/metrics/_classification.py:1318: UndefinedMetricWarning: Precision and F-score are ill-defined and being set to 0.0 in labels with no predicted samples. Use `zero_division` parameter to control this behavior.\n",
      "  _warn_prf(average, modifier, msg_start, len(result))\n",
      "/Users/anqizhu/opt/anaconda3/lib/python3.9/site-packages/sklearn/utils/validation.py:1688: FutureWarning: Feature names only support names that are all strings. Got feature names with dtypes: ['int', 'str']. An error will be raised in 1.2.\n",
      "  warnings.warn(\n"
     ]
    },
    {
     "name": "stdout",
     "output_type": "stream",
     "text": [
      "              precision    recall  f1-score   support\n",
      "\n",
      "          -1       0.00      0.00      0.00        21\n",
      "           0       0.98      1.00      0.99       976\n",
      "           1       0.00      0.00      0.00         3\n",
      "\n",
      "    accuracy                           0.98      1000\n",
      "   macro avg       0.33      0.33      0.33      1000\n",
      "weighted avg       0.95      0.98      0.96      1000\n",
      "\n",
      "Confusion Matrix:\n",
      " [[  0  21   0]\n",
      " [  0 976   0]\n",
      " [  0   3   0]]\n",
      "logistic_regression -------------------------\n"
     ]
    },
    {
     "name": "stderr",
     "output_type": "stream",
     "text": [
      "/Users/anqizhu/opt/anaconda3/lib/python3.9/site-packages/sklearn/utils/validation.py:1688: FutureWarning: Feature names only support names that are all strings. Got feature names with dtypes: ['int', 'str']. An error will be raised in 1.2.\n",
      "  warnings.warn(\n",
      "/Users/anqizhu/opt/anaconda3/lib/python3.9/site-packages/sklearn/utils/validation.py:1688: FutureWarning: Feature names only support names that are all strings. Got feature names with dtypes: ['int', 'str']. An error will be raised in 1.2.\n",
      "  warnings.warn(\n",
      "/Users/anqizhu/opt/anaconda3/lib/python3.9/site-packages/sklearn/utils/validation.py:1688: FutureWarning: Feature names only support names that are all strings. Got feature names with dtypes: ['int', 'str']. An error will be raised in 1.2.\n",
      "  warnings.warn(\n",
      "/Users/anqizhu/opt/anaconda3/lib/python3.9/site-packages/sklearn/utils/validation.py:1688: FutureWarning: Feature names only support names that are all strings. Got feature names with dtypes: ['int', 'str']. An error will be raised in 1.2.\n",
      "  warnings.warn(\n",
      "/Users/anqizhu/opt/anaconda3/lib/python3.9/site-packages/sklearn/utils/validation.py:1688: FutureWarning: Feature names only support names that are all strings. Got feature names with dtypes: ['int', 'str']. An error will be raised in 1.2.\n",
      "  warnings.warn(\n",
      "/Users/anqizhu/opt/anaconda3/lib/python3.9/site-packages/sklearn/metrics/_classification.py:1318: UndefinedMetricWarning: Precision and F-score are ill-defined and being set to 0.0 in labels with no predicted samples. Use `zero_division` parameter to control this behavior.\n",
      "  _warn_prf(average, modifier, msg_start, len(result))\n",
      "/Users/anqizhu/opt/anaconda3/lib/python3.9/site-packages/sklearn/metrics/_classification.py:1318: UndefinedMetricWarning: Precision and F-score are ill-defined and being set to 0.0 in labels with no predicted samples. Use `zero_division` parameter to control this behavior.\n",
      "  _warn_prf(average, modifier, msg_start, len(result))\n",
      "/Users/anqizhu/opt/anaconda3/lib/python3.9/site-packages/sklearn/metrics/_classification.py:1318: UndefinedMetricWarning: Precision and F-score are ill-defined and being set to 0.0 in labels with no predicted samples. Use `zero_division` parameter to control this behavior.\n",
      "  _warn_prf(average, modifier, msg_start, len(result))\n",
      "/Users/anqizhu/opt/anaconda3/lib/python3.9/site-packages/sklearn/utils/validation.py:1688: FutureWarning: Feature names only support names that are all strings. Got feature names with dtypes: ['int', 'str']. An error will be raised in 1.2.\n",
      "  warnings.warn(\n"
     ]
    },
    {
     "name": "stdout",
     "output_type": "stream",
     "text": [
      "              precision    recall  f1-score   support\n",
      "\n",
      "          -1       0.21      0.19      0.20        21\n",
      "           0       0.98      0.98      0.98       976\n",
      "           1       0.00      0.00      0.00         3\n",
      "\n",
      "    accuracy                           0.96      1000\n",
      "   macro avg       0.40      0.39      0.39      1000\n",
      "weighted avg       0.96      0.96      0.96      1000\n",
      "\n",
      "Confusion Matrix:\n",
      " [[  4  17   0]\n",
      " [ 14 959   3]\n",
      " [  1   2   0]]\n",
      "decision_tree -------------------------\n",
      "              precision    recall  f1-score   support\n",
      "\n",
      "          -1       0.08      0.14      0.11        21\n",
      "           0       0.98      0.97      0.97       976\n",
      "           1       0.00      0.00      0.00         3\n",
      "\n",
      "    accuracy                           0.95      1000\n",
      "   macro avg       0.35      0.37      0.36      1000\n",
      "weighted avg       0.96      0.95      0.95      1000\n",
      "\n",
      "Confusion Matrix:\n",
      " [[  3  18   0]\n",
      " [ 32 944   0]\n",
      " [  1   2   0]]\n",
      "naive_bayes -------------------------\n"
     ]
    },
    {
     "name": "stderr",
     "output_type": "stream",
     "text": [
      "/Users/anqizhu/opt/anaconda3/lib/python3.9/site-packages/sklearn/utils/validation.py:1688: FutureWarning: Feature names only support names that are all strings. Got feature names with dtypes: ['int', 'str']. An error will be raised in 1.2.\n",
      "  warnings.warn(\n",
      "/Users/anqizhu/opt/anaconda3/lib/python3.9/site-packages/sklearn/utils/validation.py:1688: FutureWarning: Feature names only support names that are all strings. Got feature names with dtypes: ['int', 'str']. An error will be raised in 1.2.\n",
      "  warnings.warn(\n",
      "/Users/anqizhu/opt/anaconda3/lib/python3.9/site-packages/sklearn/metrics/_classification.py:1318: UndefinedMetricWarning: Precision and F-score are ill-defined and being set to 0.0 in labels with no predicted samples. Use `zero_division` parameter to control this behavior.\n",
      "  _warn_prf(average, modifier, msg_start, len(result))\n",
      "/Users/anqizhu/opt/anaconda3/lib/python3.9/site-packages/sklearn/metrics/_classification.py:1318: UndefinedMetricWarning: Precision and F-score are ill-defined and being set to 0.0 in labels with no predicted samples. Use `zero_division` parameter to control this behavior.\n",
      "  _warn_prf(average, modifier, msg_start, len(result))\n",
      "/Users/anqizhu/opt/anaconda3/lib/python3.9/site-packages/sklearn/metrics/_classification.py:1318: UndefinedMetricWarning: Precision and F-score are ill-defined and being set to 0.0 in labels with no predicted samples. Use `zero_division` parameter to control this behavior.\n",
      "  _warn_prf(average, modifier, msg_start, len(result))\n",
      "/Users/anqizhu/opt/anaconda3/lib/python3.9/site-packages/sklearn/utils/validation.py:1688: FutureWarning: Feature names only support names that are all strings. Got feature names with dtypes: ['int', 'str']. An error will be raised in 1.2.\n",
      "  warnings.warn(\n"
     ]
    },
    {
     "name": "stdout",
     "output_type": "stream",
     "text": [
      "              precision    recall  f1-score   support\n",
      "\n",
      "          -1       0.20      0.05      0.08        21\n",
      "           0       0.98      1.00      0.99       976\n",
      "           1       0.00      0.00      0.00         3\n",
      "\n",
      "    accuracy                           0.97      1000\n",
      "   macro avg       0.39      0.35      0.35      1000\n",
      "weighted avg       0.96      0.97      0.96      1000\n",
      "\n",
      "Confusion Matrix:\n",
      " [[  1  20   0]\n",
      " [  4 972   0]\n",
      " [  0   3   0]]\n",
      "SVC -------------------------\n"
     ]
    },
    {
     "name": "stderr",
     "output_type": "stream",
     "text": [
      "/Users/anqizhu/opt/anaconda3/lib/python3.9/site-packages/sklearn/utils/validation.py:1688: FutureWarning: Feature names only support names that are all strings. Got feature names with dtypes: ['int', 'str']. An error will be raised in 1.2.\n",
      "  warnings.warn(\n",
      "/Users/anqizhu/opt/anaconda3/lib/python3.9/site-packages/sklearn/utils/validation.py:1688: FutureWarning: Feature names only support names that are all strings. Got feature names with dtypes: ['int', 'str']. An error will be raised in 1.2.\n",
      "  warnings.warn(\n",
      "/Users/anqizhu/opt/anaconda3/lib/python3.9/site-packages/sklearn/metrics/_classification.py:1318: UndefinedMetricWarning: Precision and F-score are ill-defined and being set to 0.0 in labels with no predicted samples. Use `zero_division` parameter to control this behavior.\n",
      "  _warn_prf(average, modifier, msg_start, len(result))\n",
      "/Users/anqizhu/opt/anaconda3/lib/python3.9/site-packages/sklearn/metrics/_classification.py:1318: UndefinedMetricWarning: Precision and F-score are ill-defined and being set to 0.0 in labels with no predicted samples. Use `zero_division` parameter to control this behavior.\n",
      "  _warn_prf(average, modifier, msg_start, len(result))\n",
      "/Users/anqizhu/opt/anaconda3/lib/python3.9/site-packages/sklearn/metrics/_classification.py:1318: UndefinedMetricWarning: Precision and F-score are ill-defined and being set to 0.0 in labels with no predicted samples. Use `zero_division` parameter to control this behavior.\n",
      "  _warn_prf(average, modifier, msg_start, len(result))\n",
      "/Users/anqizhu/opt/anaconda3/lib/python3.9/site-packages/sklearn/utils/validation.py:1688: FutureWarning: Feature names only support names that are all strings. Got feature names with dtypes: ['int', 'str']. An error will be raised in 1.2.\n",
      "  warnings.warn(\n"
     ]
    },
    {
     "name": "stdout",
     "output_type": "stream",
     "text": [
      "              precision    recall  f1-score   support\n",
      "\n",
      "          -1       0.00      0.00      0.00        21\n",
      "           0       0.98      1.00      0.99       976\n",
      "           1       0.00      0.00      0.00         3\n",
      "\n",
      "    accuracy                           0.98      1000\n",
      "   macro avg       0.33      0.33      0.33      1000\n",
      "weighted avg       0.95      0.98      0.96      1000\n",
      "\n",
      "Confusion Matrix:\n",
      " [[  0  21   0]\n",
      " [  0 976   0]\n",
      " [  0   3   0]]\n",
      "SGD -------------------------\n",
      "              precision    recall  f1-score   support\n",
      "\n",
      "          -1       1.00      0.10      0.17        21\n",
      "           0       0.98      1.00      0.99       976\n",
      "           1       0.00      0.00      0.00         3\n",
      "\n",
      "    accuracy                           0.98      1000\n",
      "   macro avg       0.66      0.37      0.39      1000\n",
      "weighted avg       0.98      0.98      0.97      1000\n",
      "\n",
      "Confusion Matrix:\n",
      " [[  2  19   0]\n",
      " [  0 976   0]\n",
      " [  0   3   0]]\n",
      "NN -------------------------\n"
     ]
    },
    {
     "name": "stderr",
     "output_type": "stream",
     "text": [
      "/Users/anqizhu/opt/anaconda3/lib/python3.9/site-packages/sklearn/utils/validation.py:1688: FutureWarning: Feature names only support names that are all strings. Got feature names with dtypes: ['int', 'str']. An error will be raised in 1.2.\n",
      "  warnings.warn(\n",
      "/Users/anqizhu/opt/anaconda3/lib/python3.9/site-packages/sklearn/utils/validation.py:1688: FutureWarning: Feature names only support names that are all strings. Got feature names with dtypes: ['int', 'str']. An error will be raised in 1.2.\n",
      "  warnings.warn(\n",
      "/Users/anqizhu/opt/anaconda3/lib/python3.9/site-packages/sklearn/metrics/_classification.py:1318: UndefinedMetricWarning: Precision and F-score are ill-defined and being set to 0.0 in labels with no predicted samples. Use `zero_division` parameter to control this behavior.\n",
      "  _warn_prf(average, modifier, msg_start, len(result))\n",
      "/Users/anqizhu/opt/anaconda3/lib/python3.9/site-packages/sklearn/metrics/_classification.py:1318: UndefinedMetricWarning: Precision and F-score are ill-defined and being set to 0.0 in labels with no predicted samples. Use `zero_division` parameter to control this behavior.\n",
      "  _warn_prf(average, modifier, msg_start, len(result))\n",
      "/Users/anqizhu/opt/anaconda3/lib/python3.9/site-packages/sklearn/metrics/_classification.py:1318: UndefinedMetricWarning: Precision and F-score are ill-defined and being set to 0.0 in labels with no predicted samples. Use `zero_division` parameter to control this behavior.\n",
      "  _warn_prf(average, modifier, msg_start, len(result))\n"
     ]
    }
   ],
   "source": [
    "models = ['logistic_regression', 'decision_tree', 'naive_bayes', 'SVC', 'SGD', 'NN']\n",
    "for md in models:\n",
    "    clf = train_models(X_train_vectors_tfidf, y_train, md)\n",
    "    evaluate_models(md, clf, X_valid_vectors_tfidf, y_valid)\n"
   ]
  },
  {
   "cell_type": "code",
   "execution_count": 63,
   "id": "3970ce92",
   "metadata": {},
   "outputs": [
    {
     "data": {
      "text/plain": [
       "0.9527387738773877"
      ]
     },
     "execution_count": 63,
     "metadata": {},
     "output_type": "execute_result"
    }
   ],
   "source": [
    "baseline(X_train_vectors_tfidf, y_train, X_valid_vectors_tfidf, y_valid)"
   ]
  },
  {
   "cell_type": "markdown",
   "id": "207971a3",
   "metadata": {},
   "source": [
    "### 1-2 content & apple - system upgrad"
   ]
  },
  {
   "cell_type": "code",
   "execution_count": 68,
   "id": "3e0082ca",
   "metadata": {},
   "outputs": [],
   "source": [
    "X = df[['content', 'if_apple']]  # , 'if_apple', 'if_useful'\n",
    "y = df['system upgrad']\n",
    "# np.random.seed(42)\n",
    "# split the data in training and remaining dataset\n",
    "X_train, X_rem, y_train, y_rem = train_test_split(X, y, train_size=0.6, stratify=y)\n",
    "# split the remaining to validation and test \n",
    "X_valid, X_test, y_valid, y_test = train_test_split(X_rem, y_rem, train_size=0.5, stratify=y_rem)\n",
    "\n",
    "# TF-IDF \n",
    "tfidf_vectorizer = TfidfVectorizer()\n",
    "X_train_vectors_tfidf = tfidf_vectorizer.fit_transform(X_train.iloc[:, 0]) \n",
    "X_valid_vectors_tfidf = tfidf_vectorizer.transform(X_valid.iloc[:, 0]) \n",
    "# X_test_vectors_tfidf = tfidf_vectorizer.transform(X_test) \n"
   ]
  },
  {
   "cell_type": "code",
   "execution_count": 69,
   "id": "1e28f696",
   "metadata": {},
   "outputs": [
    {
     "name": "stdout",
     "output_type": "stream",
     "text": [
      "(3000, 1300)\n",
      "(1000, 1300)\n"
     ]
    }
   ],
   "source": [
    "X_train_vectors_tfidf = pd.DataFrame(X_train_vectors_tfidf.toarray()).join(X_train[['if_apple']].reset_index())\n",
    "X_valid_vectors_tfidf = pd.DataFrame(X_valid_vectors_tfidf.toarray()).join(X_valid[['if_apple']].reset_index())\n",
    "print(X_train_vectors_tfidf.shape)\n",
    "print(X_valid_vectors_tfidf.shape)"
   ]
  },
  {
   "cell_type": "code",
   "execution_count": 70,
   "id": "ebc19679",
   "metadata": {},
   "outputs": [
    {
     "name": "stderr",
     "output_type": "stream",
     "text": [
      "/Users/anqizhu/opt/anaconda3/lib/python3.9/site-packages/sklearn/utils/validation.py:1688: FutureWarning: Feature names only support names that are all strings. Got feature names with dtypes: ['int', 'str']. An error will be raised in 1.2.\n",
      "  warnings.warn(\n",
      "/Users/anqizhu/opt/anaconda3/lib/python3.9/site-packages/sklearn/utils/validation.py:1688: FutureWarning: Feature names only support names that are all strings. Got feature names with dtypes: ['int', 'str']. An error will be raised in 1.2.\n",
      "  warnings.warn(\n",
      "/Users/anqizhu/opt/anaconda3/lib/python3.9/site-packages/sklearn/utils/validation.py:1688: FutureWarning: Feature names only support names that are all strings. Got feature names with dtypes: ['int', 'str']. An error will be raised in 1.2.\n",
      "  warnings.warn(\n",
      "/Users/anqizhu/opt/anaconda3/lib/python3.9/site-packages/sklearn/metrics/_classification.py:1318: UndefinedMetricWarning: Precision and F-score are ill-defined and being set to 0.0 in labels with no predicted samples. Use `zero_division` parameter to control this behavior.\n",
      "  _warn_prf(average, modifier, msg_start, len(result))\n",
      "/Users/anqizhu/opt/anaconda3/lib/python3.9/site-packages/sklearn/metrics/_classification.py:1318: UndefinedMetricWarning: Precision and F-score are ill-defined and being set to 0.0 in labels with no predicted samples. Use `zero_division` parameter to control this behavior.\n",
      "  _warn_prf(average, modifier, msg_start, len(result))\n",
      "/Users/anqizhu/opt/anaconda3/lib/python3.9/site-packages/sklearn/metrics/_classification.py:1318: UndefinedMetricWarning: Precision and F-score are ill-defined and being set to 0.0 in labels with no predicted samples. Use `zero_division` parameter to control this behavior.\n",
      "  _warn_prf(average, modifier, msg_start, len(result))\n",
      "/Users/anqizhu/opt/anaconda3/lib/python3.9/site-packages/sklearn/utils/validation.py:1688: FutureWarning: Feature names only support names that are all strings. Got feature names with dtypes: ['int', 'str']. An error will be raised in 1.2.\n",
      "  warnings.warn(\n"
     ]
    },
    {
     "name": "stdout",
     "output_type": "stream",
     "text": [
      "              precision    recall  f1-score   support\n",
      "\n",
      "          -1       0.00      0.00      0.00        21\n",
      "           0       0.98      1.00      0.99       976\n",
      "           1       0.00      0.00      0.00         3\n",
      "\n",
      "    accuracy                           0.98      1000\n",
      "   macro avg       0.33      0.33      0.33      1000\n",
      "weighted avg       0.95      0.98      0.96      1000\n",
      "\n",
      "Confusion Matrix:\n",
      " [[  0  21   0]\n",
      " [  0 976   0]\n",
      " [  0   3   0]]\n",
      "logistic_regression -------------------------\n"
     ]
    },
    {
     "name": "stderr",
     "output_type": "stream",
     "text": [
      "/Users/anqizhu/opt/anaconda3/lib/python3.9/site-packages/sklearn/utils/validation.py:1688: FutureWarning: Feature names only support names that are all strings. Got feature names with dtypes: ['int', 'str']. An error will be raised in 1.2.\n",
      "  warnings.warn(\n",
      "/Users/anqizhu/opt/anaconda3/lib/python3.9/site-packages/sklearn/utils/validation.py:1688: FutureWarning: Feature names only support names that are all strings. Got feature names with dtypes: ['int', 'str']. An error will be raised in 1.2.\n",
      "  warnings.warn(\n",
      "/Users/anqizhu/opt/anaconda3/lib/python3.9/site-packages/sklearn/utils/validation.py:1688: FutureWarning: Feature names only support names that are all strings. Got feature names with dtypes: ['int', 'str']. An error will be raised in 1.2.\n",
      "  warnings.warn(\n",
      "/Users/anqizhu/opt/anaconda3/lib/python3.9/site-packages/sklearn/utils/validation.py:1688: FutureWarning: Feature names only support names that are all strings. Got feature names with dtypes: ['int', 'str']. An error will be raised in 1.2.\n",
      "  warnings.warn(\n",
      "/Users/anqizhu/opt/anaconda3/lib/python3.9/site-packages/sklearn/utils/validation.py:1688: FutureWarning: Feature names only support names that are all strings. Got feature names with dtypes: ['int', 'str']. An error will be raised in 1.2.\n",
      "  warnings.warn(\n",
      "/Users/anqizhu/opt/anaconda3/lib/python3.9/site-packages/sklearn/utils/validation.py:1688: FutureWarning: Feature names only support names that are all strings. Got feature names with dtypes: ['int', 'str']. An error will be raised in 1.2.\n",
      "  warnings.warn(\n"
     ]
    },
    {
     "name": "stdout",
     "output_type": "stream",
     "text": [
      "              precision    recall  f1-score   support\n",
      "\n",
      "          -1       0.17      0.10      0.12        21\n",
      "           0       0.98      0.99      0.98       976\n",
      "           1       0.00      0.00      0.00         3\n",
      "\n",
      "    accuracy                           0.97      1000\n",
      "   macro avg       0.38      0.36      0.37      1000\n",
      "weighted avg       0.96      0.97      0.96      1000\n",
      "\n",
      "Confusion Matrix:\n",
      " [[  2  19   0]\n",
      " [  9 966   1]\n",
      " [  1   2   0]]\n",
      "decision_tree -------------------------\n",
      "              precision    recall  f1-score   support\n",
      "\n",
      "          -1       0.08      0.14      0.10        21\n",
      "           0       0.98      0.96      0.97       976\n",
      "           1       0.00      0.00      0.00         3\n",
      "\n",
      "    accuracy                           0.94      1000\n",
      "   macro avg       0.35      0.37      0.36      1000\n",
      "weighted avg       0.96      0.94      0.95      1000\n",
      "\n",
      "Confusion Matrix:\n",
      " [[  3  18   0]\n",
      " [ 35 940   1]\n",
      " [  0   3   0]]\n",
      "naive_bayes -------------------------\n"
     ]
    },
    {
     "name": "stderr",
     "output_type": "stream",
     "text": [
      "/Users/anqizhu/opt/anaconda3/lib/python3.9/site-packages/sklearn/utils/validation.py:1688: FutureWarning: Feature names only support names that are all strings. Got feature names with dtypes: ['int', 'str']. An error will be raised in 1.2.\n",
      "  warnings.warn(\n",
      "/Users/anqizhu/opt/anaconda3/lib/python3.9/site-packages/sklearn/utils/validation.py:1688: FutureWarning: Feature names only support names that are all strings. Got feature names with dtypes: ['int', 'str']. An error will be raised in 1.2.\n",
      "  warnings.warn(\n",
      "/Users/anqizhu/opt/anaconda3/lib/python3.9/site-packages/sklearn/metrics/_classification.py:1318: UndefinedMetricWarning: Precision and F-score are ill-defined and being set to 0.0 in labels with no predicted samples. Use `zero_division` parameter to control this behavior.\n",
      "  _warn_prf(average, modifier, msg_start, len(result))\n",
      "/Users/anqizhu/opt/anaconda3/lib/python3.9/site-packages/sklearn/metrics/_classification.py:1318: UndefinedMetricWarning: Precision and F-score are ill-defined and being set to 0.0 in labels with no predicted samples. Use `zero_division` parameter to control this behavior.\n",
      "  _warn_prf(average, modifier, msg_start, len(result))\n",
      "/Users/anqizhu/opt/anaconda3/lib/python3.9/site-packages/sklearn/metrics/_classification.py:1318: UndefinedMetricWarning: Precision and F-score are ill-defined and being set to 0.0 in labels with no predicted samples. Use `zero_division` parameter to control this behavior.\n",
      "  _warn_prf(average, modifier, msg_start, len(result))\n",
      "/Users/anqizhu/opt/anaconda3/lib/python3.9/site-packages/sklearn/utils/validation.py:1688: FutureWarning: Feature names only support names that are all strings. Got feature names with dtypes: ['int', 'str']. An error will be raised in 1.2.\n",
      "  warnings.warn(\n"
     ]
    },
    {
     "name": "stdout",
     "output_type": "stream",
     "text": [
      "              precision    recall  f1-score   support\n",
      "\n",
      "          -1       0.20      0.05      0.08        21\n",
      "           0       0.98      1.00      0.99       976\n",
      "           1       0.00      0.00      0.00         3\n",
      "\n",
      "    accuracy                           0.97      1000\n",
      "   macro avg       0.39      0.35      0.35      1000\n",
      "weighted avg       0.96      0.97      0.96      1000\n",
      "\n",
      "Confusion Matrix:\n",
      " [[  1  20   0]\n",
      " [  4 972   0]\n",
      " [  0   3   0]]\n",
      "SVC -------------------------\n"
     ]
    },
    {
     "name": "stderr",
     "output_type": "stream",
     "text": [
      "/Users/anqizhu/opt/anaconda3/lib/python3.9/site-packages/sklearn/utils/validation.py:1688: FutureWarning: Feature names only support names that are all strings. Got feature names with dtypes: ['int', 'str']. An error will be raised in 1.2.\n",
      "  warnings.warn(\n",
      "/Users/anqizhu/opt/anaconda3/lib/python3.9/site-packages/sklearn/utils/validation.py:1688: FutureWarning: Feature names only support names that are all strings. Got feature names with dtypes: ['int', 'str']. An error will be raised in 1.2.\n",
      "  warnings.warn(\n",
      "/Users/anqizhu/opt/anaconda3/lib/python3.9/site-packages/sklearn/metrics/_classification.py:1318: UndefinedMetricWarning: Precision and F-score are ill-defined and being set to 0.0 in labels with no predicted samples. Use `zero_division` parameter to control this behavior.\n",
      "  _warn_prf(average, modifier, msg_start, len(result))\n",
      "/Users/anqizhu/opt/anaconda3/lib/python3.9/site-packages/sklearn/metrics/_classification.py:1318: UndefinedMetricWarning: Precision and F-score are ill-defined and being set to 0.0 in labels with no predicted samples. Use `zero_division` parameter to control this behavior.\n",
      "  _warn_prf(average, modifier, msg_start, len(result))\n",
      "/Users/anqizhu/opt/anaconda3/lib/python3.9/site-packages/sklearn/metrics/_classification.py:1318: UndefinedMetricWarning: Precision and F-score are ill-defined and being set to 0.0 in labels with no predicted samples. Use `zero_division` parameter to control this behavior.\n",
      "  _warn_prf(average, modifier, msg_start, len(result))\n",
      "/Users/anqizhu/opt/anaconda3/lib/python3.9/site-packages/sklearn/utils/validation.py:1688: FutureWarning: Feature names only support names that are all strings. Got feature names with dtypes: ['int', 'str']. An error will be raised in 1.2.\n",
      "  warnings.warn(\n"
     ]
    },
    {
     "name": "stdout",
     "output_type": "stream",
     "text": [
      "              precision    recall  f1-score   support\n",
      "\n",
      "          -1       0.00      0.00      0.00        21\n",
      "           0       0.98      1.00      0.99       976\n",
      "           1       0.00      0.00      0.00         3\n",
      "\n",
      "    accuracy                           0.98      1000\n",
      "   macro avg       0.33      0.33      0.33      1000\n",
      "weighted avg       0.95      0.98      0.96      1000\n",
      "\n",
      "Confusion Matrix:\n",
      " [[  0  21   0]\n",
      " [  0 976   0]\n",
      " [  0   3   0]]\n",
      "SGD -------------------------\n",
      "              precision    recall  f1-score   support\n",
      "\n",
      "          -1       0.00      0.00      0.00        21\n",
      "           0       0.98      1.00      0.99       976\n",
      "           1       0.00      0.00      0.00         3\n",
      "\n",
      "    accuracy                           0.98      1000\n",
      "   macro avg       0.33      0.33      0.33      1000\n",
      "weighted avg       0.95      0.98      0.96      1000\n",
      "\n",
      "Confusion Matrix:\n",
      " [[  0  21   0]\n",
      " [  0 976   0]\n",
      " [  0   3   0]]\n",
      "NN -------------------------\n"
     ]
    },
    {
     "name": "stderr",
     "output_type": "stream",
     "text": [
      "/Users/anqizhu/opt/anaconda3/lib/python3.9/site-packages/sklearn/utils/validation.py:1688: FutureWarning: Feature names only support names that are all strings. Got feature names with dtypes: ['int', 'str']. An error will be raised in 1.2.\n",
      "  warnings.warn(\n",
      "/Users/anqizhu/opt/anaconda3/lib/python3.9/site-packages/sklearn/utils/validation.py:1688: FutureWarning: Feature names only support names that are all strings. Got feature names with dtypes: ['int', 'str']. An error will be raised in 1.2.\n",
      "  warnings.warn(\n",
      "/Users/anqizhu/opt/anaconda3/lib/python3.9/site-packages/sklearn/metrics/_classification.py:1318: UndefinedMetricWarning: Precision and F-score are ill-defined and being set to 0.0 in labels with no predicted samples. Use `zero_division` parameter to control this behavior.\n",
      "  _warn_prf(average, modifier, msg_start, len(result))\n",
      "/Users/anqizhu/opt/anaconda3/lib/python3.9/site-packages/sklearn/metrics/_classification.py:1318: UndefinedMetricWarning: Precision and F-score are ill-defined and being set to 0.0 in labels with no predicted samples. Use `zero_division` parameter to control this behavior.\n",
      "  _warn_prf(average, modifier, msg_start, len(result))\n",
      "/Users/anqizhu/opt/anaconda3/lib/python3.9/site-packages/sklearn/metrics/_classification.py:1318: UndefinedMetricWarning: Precision and F-score are ill-defined and being set to 0.0 in labels with no predicted samples. Use `zero_division` parameter to control this behavior.\n",
      "  _warn_prf(average, modifier, msg_start, len(result))\n"
     ]
    }
   ],
   "source": [
    "models = ['logistic_regression', 'decision_tree', 'naive_bayes', 'SVC', 'SGD', 'NN']\n",
    "for md in models:\n",
    "    clf = train_models(X_train_vectors_tfidf, y_train, md)\n",
    "    evaluate_models(md, clf, X_valid_vectors_tfidf, y_valid)\n"
   ]
  },
  {
   "cell_type": "code",
   "execution_count": 71,
   "id": "1847f071",
   "metadata": {},
   "outputs": [
    {
     "data": {
      "text/plain": [
       "0.9527375737573757"
      ]
     },
     "execution_count": 71,
     "metadata": {},
     "output_type": "execute_result"
    }
   ],
   "source": [
    "baseline(X_train_vectors_tfidf, y_train, X_valid_vectors_tfidf, y_valid)"
   ]
  },
  {
   "cell_type": "markdown",
   "id": "b256ec3c",
   "metadata": {},
   "source": [
    "### 2-3 content & apple & useful - connection"
   ]
  },
  {
   "cell_type": "code",
   "execution_count": 64,
   "id": "709dc344",
   "metadata": {},
   "outputs": [],
   "source": [
    "X = df[['content', 'if_apple', 'if_useful']]  # , 'if_apple', 'if_useful'\n",
    "y = df['connection']\n",
    "# np.random.seed(42)\n",
    "# split the data in training and remaining dataset\n",
    "X_train, X_rem, y_train, y_rem = train_test_split(X, y, train_size=0.6, stratify=y)\n",
    "# split the remaining to validation and test \n",
    "X_valid, X_test, y_valid, y_test = train_test_split(X_rem, y_rem, train_size=0.5, stratify=y_rem)\n",
    "\n",
    "# TF-IDF \n",
    "tfidf_vectorizer = TfidfVectorizer()\n",
    "X_train_vectors_tfidf = tfidf_vectorizer.fit_transform(X_train.iloc[:, 0]) \n",
    "X_valid_vectors_tfidf = tfidf_vectorizer.transform(X_valid.iloc[:, 0]) \n",
    "# X_test_vectors_tfidf = tfidf_vectorizer.transform(X_test) "
   ]
  },
  {
   "cell_type": "code",
   "execution_count": 65,
   "id": "ec3a5451",
   "metadata": {},
   "outputs": [
    {
     "name": "stdout",
     "output_type": "stream",
     "text": [
      "(3000, 1298)\n",
      "(1000, 1298)\n"
     ]
    }
   ],
   "source": [
    "X_train_vectors_tfidf = pd.DataFrame(X_train_vectors_tfidf.toarray()).join(X_train[['if_apple', 'if_useful']].reset_index())\n",
    "X_valid_vectors_tfidf = pd.DataFrame(X_valid_vectors_tfidf.toarray()).join(X_valid[['if_apple', 'if_useful']].reset_index())\n",
    "print(X_train_vectors_tfidf.shape)\n",
    "print(X_valid_vectors_tfidf.shape)"
   ]
  },
  {
   "cell_type": "code",
   "execution_count": 66,
   "id": "7abcd31c",
   "metadata": {},
   "outputs": [
    {
     "name": "stderr",
     "output_type": "stream",
     "text": [
      "/Users/anqizhu/opt/anaconda3/lib/python3.9/site-packages/sklearn/utils/validation.py:1688: FutureWarning: Feature names only support names that are all strings. Got feature names with dtypes: ['int', 'str']. An error will be raised in 1.2.\n",
      "  warnings.warn(\n",
      "/Users/anqizhu/opt/anaconda3/lib/python3.9/site-packages/sklearn/linear_model/_logistic.py:814: ConvergenceWarning: lbfgs failed to converge (status=1):\n",
      "STOP: TOTAL NO. of ITERATIONS REACHED LIMIT.\n",
      "\n",
      "Increase the number of iterations (max_iter) or scale the data as shown in:\n",
      "    https://scikit-learn.org/stable/modules/preprocessing.html\n",
      "Please also refer to the documentation for alternative solver options:\n",
      "    https://scikit-learn.org/stable/modules/linear_model.html#logistic-regression\n",
      "  n_iter_i = _check_optimize_result(\n",
      "/Users/anqizhu/opt/anaconda3/lib/python3.9/site-packages/sklearn/utils/validation.py:1688: FutureWarning: Feature names only support names that are all strings. Got feature names with dtypes: ['int', 'str']. An error will be raised in 1.2.\n",
      "  warnings.warn(\n",
      "/Users/anqizhu/opt/anaconda3/lib/python3.9/site-packages/sklearn/utils/validation.py:1688: FutureWarning: Feature names only support names that are all strings. Got feature names with dtypes: ['int', 'str']. An error will be raised in 1.2.\n",
      "  warnings.warn(\n",
      "/Users/anqizhu/opt/anaconda3/lib/python3.9/site-packages/sklearn/metrics/_classification.py:1318: UndefinedMetricWarning: Precision and F-score are ill-defined and being set to 0.0 in labels with no predicted samples. Use `zero_division` parameter to control this behavior.\n",
      "  _warn_prf(average, modifier, msg_start, len(result))\n",
      "/Users/anqizhu/opt/anaconda3/lib/python3.9/site-packages/sklearn/metrics/_classification.py:1318: UndefinedMetricWarning: Precision and F-score are ill-defined and being set to 0.0 in labels with no predicted samples. Use `zero_division` parameter to control this behavior.\n",
      "  _warn_prf(average, modifier, msg_start, len(result))\n",
      "/Users/anqizhu/opt/anaconda3/lib/python3.9/site-packages/sklearn/metrics/_classification.py:1318: UndefinedMetricWarning: Precision and F-score are ill-defined and being set to 0.0 in labels with no predicted samples. Use `zero_division` parameter to control this behavior.\n",
      "  _warn_prf(average, modifier, msg_start, len(result))\n",
      "/Users/anqizhu/opt/anaconda3/lib/python3.9/site-packages/sklearn/utils/validation.py:1688: FutureWarning: Feature names only support names that are all strings. Got feature names with dtypes: ['int', 'str']. An error will be raised in 1.2.\n",
      "  warnings.warn(\n"
     ]
    },
    {
     "name": "stdout",
     "output_type": "stream",
     "text": [
      "              precision    recall  f1-score   support\n",
      "\n",
      "          -1       0.00      0.00      0.00         9\n",
      "           0       0.99      1.00      0.99       987\n",
      "           1       0.00      0.00      0.00         4\n",
      "\n",
      "    accuracy                           0.99      1000\n",
      "   macro avg       0.33      0.33      0.33      1000\n",
      "weighted avg       0.97      0.99      0.98      1000\n",
      "\n",
      "Confusion Matrix:\n",
      " [[  0   9   0]\n",
      " [  0 987   0]\n",
      " [  0   4   0]]\n",
      "logistic_regression -------------------------\n"
     ]
    },
    {
     "name": "stderr",
     "output_type": "stream",
     "text": [
      "/Users/anqizhu/opt/anaconda3/lib/python3.9/site-packages/sklearn/utils/validation.py:1688: FutureWarning: Feature names only support names that are all strings. Got feature names with dtypes: ['int', 'str']. An error will be raised in 1.2.\n",
      "  warnings.warn(\n",
      "/Users/anqizhu/opt/anaconda3/lib/python3.9/site-packages/sklearn/utils/validation.py:1688: FutureWarning: Feature names only support names that are all strings. Got feature names with dtypes: ['int', 'str']. An error will be raised in 1.2.\n",
      "  warnings.warn(\n",
      "/Users/anqizhu/opt/anaconda3/lib/python3.9/site-packages/sklearn/utils/validation.py:1688: FutureWarning: Feature names only support names that are all strings. Got feature names with dtypes: ['int', 'str']. An error will be raised in 1.2.\n",
      "  warnings.warn(\n",
      "/Users/anqizhu/opt/anaconda3/lib/python3.9/site-packages/sklearn/utils/validation.py:1688: FutureWarning: Feature names only support names that are all strings. Got feature names with dtypes: ['int', 'str']. An error will be raised in 1.2.\n",
      "  warnings.warn(\n",
      "/Users/anqizhu/opt/anaconda3/lib/python3.9/site-packages/sklearn/utils/validation.py:1688: FutureWarning: Feature names only support names that are all strings. Got feature names with dtypes: ['int', 'str']. An error will be raised in 1.2.\n",
      "  warnings.warn(\n",
      "/Users/anqizhu/opt/anaconda3/lib/python3.9/site-packages/sklearn/metrics/_classification.py:1318: UndefinedMetricWarning: Precision and F-score are ill-defined and being set to 0.0 in labels with no predicted samples. Use `zero_division` parameter to control this behavior.\n",
      "  _warn_prf(average, modifier, msg_start, len(result))\n",
      "/Users/anqizhu/opt/anaconda3/lib/python3.9/site-packages/sklearn/metrics/_classification.py:1318: UndefinedMetricWarning: Precision and F-score are ill-defined and being set to 0.0 in labels with no predicted samples. Use `zero_division` parameter to control this behavior.\n",
      "  _warn_prf(average, modifier, msg_start, len(result))\n",
      "/Users/anqizhu/opt/anaconda3/lib/python3.9/site-packages/sklearn/metrics/_classification.py:1318: UndefinedMetricWarning: Precision and F-score are ill-defined and being set to 0.0 in labels with no predicted samples. Use `zero_division` parameter to control this behavior.\n",
      "  _warn_prf(average, modifier, msg_start, len(result))\n",
      "/Users/anqizhu/opt/anaconda3/lib/python3.9/site-packages/sklearn/utils/validation.py:1688: FutureWarning: Feature names only support names that are all strings. Got feature names with dtypes: ['int', 'str']. An error will be raised in 1.2.\n",
      "  warnings.warn(\n"
     ]
    },
    {
     "name": "stdout",
     "output_type": "stream",
     "text": [
      "              precision    recall  f1-score   support\n",
      "\n",
      "          -1       0.00      0.00      0.00         9\n",
      "           0       0.99      0.99      0.99       987\n",
      "           1       0.00      0.00      0.00         4\n",
      "\n",
      "    accuracy                           0.98      1000\n",
      "   macro avg       0.33      0.33      0.33      1000\n",
      "weighted avg       0.97      0.98      0.98      1000\n",
      "\n",
      "Confusion Matrix:\n",
      " [[  0   9   0]\n",
      " [  4 979   4]\n",
      " [  0   4   0]]\n",
      "decision_tree -------------------------\n",
      "              precision    recall  f1-score   support\n",
      "\n",
      "          -1       0.00      0.00      0.00         9\n",
      "           0       0.99      0.99      0.99       987\n",
      "           1       0.00      0.00      0.00         4\n",
      "\n",
      "    accuracy                           0.98      1000\n",
      "   macro avg       0.33      0.33      0.33      1000\n",
      "weighted avg       0.97      0.98      0.98      1000\n",
      "\n",
      "Confusion Matrix:\n",
      " [[  0   9   0]\n",
      " [  8 979   0]\n",
      " [  0   4   0]]\n",
      "naive_bayes -------------------------\n"
     ]
    },
    {
     "name": "stderr",
     "output_type": "stream",
     "text": [
      "/Users/anqizhu/opt/anaconda3/lib/python3.9/site-packages/sklearn/utils/validation.py:1688: FutureWarning: Feature names only support names that are all strings. Got feature names with dtypes: ['int', 'str']. An error will be raised in 1.2.\n",
      "  warnings.warn(\n",
      "/Users/anqizhu/opt/anaconda3/lib/python3.9/site-packages/sklearn/utils/validation.py:1688: FutureWarning: Feature names only support names that are all strings. Got feature names with dtypes: ['int', 'str']. An error will be raised in 1.2.\n",
      "  warnings.warn(\n",
      "/Users/anqizhu/opt/anaconda3/lib/python3.9/site-packages/sklearn/metrics/_classification.py:1318: UndefinedMetricWarning: Precision and F-score are ill-defined and being set to 0.0 in labels with no predicted samples. Use `zero_division` parameter to control this behavior.\n",
      "  _warn_prf(average, modifier, msg_start, len(result))\n",
      "/Users/anqizhu/opt/anaconda3/lib/python3.9/site-packages/sklearn/metrics/_classification.py:1318: UndefinedMetricWarning: Precision and F-score are ill-defined and being set to 0.0 in labels with no predicted samples. Use `zero_division` parameter to control this behavior.\n",
      "  _warn_prf(average, modifier, msg_start, len(result))\n",
      "/Users/anqizhu/opt/anaconda3/lib/python3.9/site-packages/sklearn/metrics/_classification.py:1318: UndefinedMetricWarning: Precision and F-score are ill-defined and being set to 0.0 in labels with no predicted samples. Use `zero_division` parameter to control this behavior.\n",
      "  _warn_prf(average, modifier, msg_start, len(result))\n",
      "/Users/anqizhu/opt/anaconda3/lib/python3.9/site-packages/sklearn/utils/validation.py:1688: FutureWarning: Feature names only support names that are all strings. Got feature names with dtypes: ['int', 'str']. An error will be raised in 1.2.\n",
      "  warnings.warn(\n"
     ]
    },
    {
     "name": "stdout",
     "output_type": "stream",
     "text": [
      "              precision    recall  f1-score   support\n",
      "\n",
      "          -1       0.00      0.00      0.00         9\n",
      "           0       0.99      1.00      0.99       987\n",
      "           1       0.00      0.00      0.00         4\n",
      "\n",
      "    accuracy                           0.99      1000\n",
      "   macro avg       0.33      0.33      0.33      1000\n",
      "weighted avg       0.97      0.99      0.98      1000\n",
      "\n",
      "Confusion Matrix:\n",
      " [[  0   9   0]\n",
      " [  0 987   0]\n",
      " [  0   4   0]]\n",
      "SVC -------------------------\n"
     ]
    },
    {
     "name": "stderr",
     "output_type": "stream",
     "text": [
      "/Users/anqizhu/opt/anaconda3/lib/python3.9/site-packages/sklearn/utils/validation.py:1688: FutureWarning: Feature names only support names that are all strings. Got feature names with dtypes: ['int', 'str']. An error will be raised in 1.2.\n",
      "  warnings.warn(\n",
      "/Users/anqizhu/opt/anaconda3/lib/python3.9/site-packages/sklearn/utils/validation.py:1688: FutureWarning: Feature names only support names that are all strings. Got feature names with dtypes: ['int', 'str']. An error will be raised in 1.2.\n",
      "  warnings.warn(\n",
      "/Users/anqizhu/opt/anaconda3/lib/python3.9/site-packages/sklearn/metrics/_classification.py:1318: UndefinedMetricWarning: Precision and F-score are ill-defined and being set to 0.0 in labels with no predicted samples. Use `zero_division` parameter to control this behavior.\n",
      "  _warn_prf(average, modifier, msg_start, len(result))\n",
      "/Users/anqizhu/opt/anaconda3/lib/python3.9/site-packages/sklearn/metrics/_classification.py:1318: UndefinedMetricWarning: Precision and F-score are ill-defined and being set to 0.0 in labels with no predicted samples. Use `zero_division` parameter to control this behavior.\n",
      "  _warn_prf(average, modifier, msg_start, len(result))\n",
      "/Users/anqizhu/opt/anaconda3/lib/python3.9/site-packages/sklearn/metrics/_classification.py:1318: UndefinedMetricWarning: Precision and F-score are ill-defined and being set to 0.0 in labels with no predicted samples. Use `zero_division` parameter to control this behavior.\n",
      "  _warn_prf(average, modifier, msg_start, len(result))\n",
      "/Users/anqizhu/opt/anaconda3/lib/python3.9/site-packages/sklearn/utils/validation.py:1688: FutureWarning: Feature names only support names that are all strings. Got feature names with dtypes: ['int', 'str']. An error will be raised in 1.2.\n",
      "  warnings.warn(\n"
     ]
    },
    {
     "name": "stdout",
     "output_type": "stream",
     "text": [
      "              precision    recall  f1-score   support\n",
      "\n",
      "          -1       0.00      0.00      0.00         9\n",
      "           0       0.99      1.00      0.99       987\n",
      "           1       0.00      0.00      0.00         4\n",
      "\n",
      "    accuracy                           0.99      1000\n",
      "   macro avg       0.33      0.33      0.33      1000\n",
      "weighted avg       0.97      0.99      0.98      1000\n",
      "\n",
      "Confusion Matrix:\n",
      " [[  0   9   0]\n",
      " [  0 987   0]\n",
      " [  0   4   0]]\n",
      "SGD -------------------------\n",
      "              precision    recall  f1-score   support\n",
      "\n",
      "          -1       0.00      0.00      0.00         9\n",
      "           0       0.99      1.00      0.99       987\n",
      "           1       0.00      0.00      0.00         4\n",
      "\n",
      "    accuracy                           0.99      1000\n",
      "   macro avg       0.33      0.33      0.33      1000\n",
      "weighted avg       0.97      0.99      0.98      1000\n",
      "\n",
      "Confusion Matrix:\n",
      " [[  0   9   0]\n",
      " [  0 987   0]\n",
      " [  0   4   0]]\n",
      "NN -------------------------\n"
     ]
    },
    {
     "name": "stderr",
     "output_type": "stream",
     "text": [
      "/Users/anqizhu/opt/anaconda3/lib/python3.9/site-packages/sklearn/utils/validation.py:1688: FutureWarning: Feature names only support names that are all strings. Got feature names with dtypes: ['int', 'str']. An error will be raised in 1.2.\n",
      "  warnings.warn(\n",
      "/Users/anqizhu/opt/anaconda3/lib/python3.9/site-packages/sklearn/utils/validation.py:1688: FutureWarning: Feature names only support names that are all strings. Got feature names with dtypes: ['int', 'str']. An error will be raised in 1.2.\n",
      "  warnings.warn(\n",
      "/Users/anqizhu/opt/anaconda3/lib/python3.9/site-packages/sklearn/metrics/_classification.py:1318: UndefinedMetricWarning: Precision and F-score are ill-defined and being set to 0.0 in labels with no predicted samples. Use `zero_division` parameter to control this behavior.\n",
      "  _warn_prf(average, modifier, msg_start, len(result))\n",
      "/Users/anqizhu/opt/anaconda3/lib/python3.9/site-packages/sklearn/metrics/_classification.py:1318: UndefinedMetricWarning: Precision and F-score are ill-defined and being set to 0.0 in labels with no predicted samples. Use `zero_division` parameter to control this behavior.\n",
      "  _warn_prf(average, modifier, msg_start, len(result))\n",
      "/Users/anqizhu/opt/anaconda3/lib/python3.9/site-packages/sklearn/metrics/_classification.py:1318: UndefinedMetricWarning: Precision and F-score are ill-defined and being set to 0.0 in labels with no predicted samples. Use `zero_division` parameter to control this behavior.\n",
      "  _warn_prf(average, modifier, msg_start, len(result))\n"
     ]
    }
   ],
   "source": [
    "models = ['logistic_regression', 'decision_tree', 'naive_bayes', 'SVC', 'SGD', 'NN']\n",
    "for md in models:\n",
    "    clf = train_models(X_train_vectors_tfidf, y_train, md)\n",
    "    evaluate_models(md, clf, X_valid_vectors_tfidf, y_valid)\n"
   ]
  },
  {
   "cell_type": "code",
   "execution_count": 67,
   "id": "77cd5302",
   "metadata": {},
   "outputs": [
    {
     "data": {
      "text/plain": [
       "0.9742593259325933"
      ]
     },
     "execution_count": 67,
     "metadata": {},
     "output_type": "execute_result"
    }
   ],
   "source": [
    "baseline(X_train_vectors_tfidf, y_train, X_valid_vectors_tfidf, y_valid)"
   ]
  },
  {
   "cell_type": "markdown",
   "id": "60d80bab",
   "metadata": {},
   "source": [
    "### 2-1 content - connection"
   ]
  },
  {
   "cell_type": "code",
   "execution_count": 72,
   "id": "1cab8bd6",
   "metadata": {},
   "outputs": [],
   "source": [
    "X = df['content'] # , 'if_apple', 'if_useful'\n",
    "y = df['connection']\n",
    "# np.random.seed(42)\n",
    "# split the data in training and remaining dataset\n",
    "X_train, X_rem, y_train, y_rem = train_test_split(X, y, train_size=0.6, stratify=y)\n",
    "# split the remaining to validation and test \n",
    "X_valid, X_test, y_valid, y_test = train_test_split(X_rem, y_rem, train_size=0.5, stratify=y_rem)\n",
    "\n",
    "# TF-IDF \n",
    "tfidf_vectorizer = TfidfVectorizer()\n",
    "X_train_vectors_tfidf = tfidf_vectorizer.fit_transform(X_train) \n",
    "X_valid_vectors_tfidf = tfidf_vectorizer.transform(X_valid) \n",
    "# X_test_vectors_tfidf = tfidf_vectorizer.transform(X_test) \n",
    "\n"
   ]
  },
  {
   "cell_type": "code",
   "execution_count": 73,
   "id": "407af18d",
   "metadata": {},
   "outputs": [
    {
     "name": "stderr",
     "output_type": "stream",
     "text": [
      "/Users/anqizhu/opt/anaconda3/lib/python3.9/site-packages/sklearn/metrics/_classification.py:1318: UndefinedMetricWarning: Precision and F-score are ill-defined and being set to 0.0 in labels with no predicted samples. Use `zero_division` parameter to control this behavior.\n",
      "  _warn_prf(average, modifier, msg_start, len(result))\n",
      "/Users/anqizhu/opt/anaconda3/lib/python3.9/site-packages/sklearn/metrics/_classification.py:1318: UndefinedMetricWarning: Precision and F-score are ill-defined and being set to 0.0 in labels with no predicted samples. Use `zero_division` parameter to control this behavior.\n",
      "  _warn_prf(average, modifier, msg_start, len(result))\n",
      "/Users/anqizhu/opt/anaconda3/lib/python3.9/site-packages/sklearn/metrics/_classification.py:1318: UndefinedMetricWarning: Precision and F-score are ill-defined and being set to 0.0 in labels with no predicted samples. Use `zero_division` parameter to control this behavior.\n",
      "  _warn_prf(average, modifier, msg_start, len(result))\n",
      "/Users/anqizhu/opt/anaconda3/lib/python3.9/site-packages/sklearn/metrics/_classification.py:1318: UndefinedMetricWarning: Precision and F-score are ill-defined and being set to 0.0 in labels with no predicted samples. Use `zero_division` parameter to control this behavior.\n",
      "  _warn_prf(average, modifier, msg_start, len(result))\n",
      "/Users/anqizhu/opt/anaconda3/lib/python3.9/site-packages/sklearn/metrics/_classification.py:1318: UndefinedMetricWarning: Precision and F-score are ill-defined and being set to 0.0 in labels with no predicted samples. Use `zero_division` parameter to control this behavior.\n",
      "  _warn_prf(average, modifier, msg_start, len(result))\n",
      "/Users/anqizhu/opt/anaconda3/lib/python3.9/site-packages/sklearn/metrics/_classification.py:1318: UndefinedMetricWarning: Precision and F-score are ill-defined and being set to 0.0 in labels with no predicted samples. Use `zero_division` parameter to control this behavior.\n",
      "  _warn_prf(average, modifier, msg_start, len(result))\n"
     ]
    },
    {
     "name": "stdout",
     "output_type": "stream",
     "text": [
      "              precision    recall  f1-score   support\n",
      "\n",
      "          -1       0.00      0.00      0.00         8\n",
      "           0       0.99      1.00      0.99       987\n",
      "           1       0.00      0.00      0.00         5\n",
      "\n",
      "    accuracy                           0.99      1000\n",
      "   macro avg       0.33      0.33      0.33      1000\n",
      "weighted avg       0.97      0.99      0.98      1000\n",
      "\n",
      "Confusion Matrix:\n",
      " [[  0   8   0]\n",
      " [  0 987   0]\n",
      " [  0   5   0]]\n",
      "logistic_regression -------------------------\n",
      "              precision    recall  f1-score   support\n",
      "\n",
      "          -1       0.17      0.12      0.14         8\n",
      "           0       0.99      0.99      0.99       987\n",
      "           1       0.00      0.00      0.00         5\n",
      "\n",
      "    accuracy                           0.98      1000\n",
      "   macro avg       0.39      0.37      0.38      1000\n",
      "weighted avg       0.98      0.98      0.98      1000\n",
      "\n",
      "Confusion Matrix:\n",
      " [[  1   7   0]\n",
      " [  4 981   2]\n",
      " [  1   4   0]]\n",
      "decision_tree -------------------------\n",
      "              precision    recall  f1-score   support\n",
      "\n",
      "          -1       0.00      0.00      0.00         8\n",
      "           0       0.99      0.99      0.99       987\n",
      "           1       0.00      0.00      0.00         5\n",
      "\n",
      "    accuracy                           0.98      1000\n",
      "   macro avg       0.33      0.33      0.33      1000\n",
      "weighted avg       0.97      0.98      0.98      1000\n",
      "\n",
      "Confusion Matrix:\n",
      " [[  0   8   0]\n",
      " [  6 981   0]\n",
      " [  0   5   0]]\n",
      "naive_bayes -------------------------\n"
     ]
    },
    {
     "name": "stderr",
     "output_type": "stream",
     "text": [
      "/Users/anqizhu/opt/anaconda3/lib/python3.9/site-packages/sklearn/metrics/_classification.py:1318: UndefinedMetricWarning: Precision and F-score are ill-defined and being set to 0.0 in labels with no predicted samples. Use `zero_division` parameter to control this behavior.\n",
      "  _warn_prf(average, modifier, msg_start, len(result))\n",
      "/Users/anqizhu/opt/anaconda3/lib/python3.9/site-packages/sklearn/metrics/_classification.py:1318: UndefinedMetricWarning: Precision and F-score are ill-defined and being set to 0.0 in labels with no predicted samples. Use `zero_division` parameter to control this behavior.\n",
      "  _warn_prf(average, modifier, msg_start, len(result))\n",
      "/Users/anqizhu/opt/anaconda3/lib/python3.9/site-packages/sklearn/metrics/_classification.py:1318: UndefinedMetricWarning: Precision and F-score are ill-defined and being set to 0.0 in labels with no predicted samples. Use `zero_division` parameter to control this behavior.\n",
      "  _warn_prf(average, modifier, msg_start, len(result))\n"
     ]
    },
    {
     "name": "stdout",
     "output_type": "stream",
     "text": [
      "              precision    recall  f1-score   support\n",
      "\n",
      "          -1       0.00      0.00      0.00         8\n",
      "           0       0.99      1.00      0.99       987\n",
      "           1       0.00      0.00      0.00         5\n",
      "\n",
      "    accuracy                           0.99      1000\n",
      "   macro avg       0.33      0.33      0.33      1000\n",
      "weighted avg       0.97      0.99      0.98      1000\n",
      "\n",
      "Confusion Matrix:\n",
      " [[  0   8   0]\n",
      " [  0 987   0]\n",
      " [  0   5   0]]\n",
      "SVC -------------------------\n",
      "              precision    recall  f1-score   support\n",
      "\n",
      "          -1       0.50      0.25      0.33         8\n",
      "           0       0.99      1.00      0.99       987\n",
      "           1       0.00      0.00      0.00         5\n",
      "\n",
      "    accuracy                           0.99      1000\n",
      "   macro avg       0.50      0.42      0.44      1000\n",
      "weighted avg       0.98      0.99      0.98      1000\n",
      "\n",
      "Confusion Matrix:\n",
      " [[  2   6   0]\n",
      " [  2 984   1]\n",
      " [  0   5   0]]\n",
      "SGD -------------------------\n",
      "              precision    recall  f1-score   support\n",
      "\n",
      "          -1       0.00      0.00      0.00         8\n",
      "           0       0.99      1.00      0.99       987\n",
      "           1       0.00      0.00      0.00         5\n",
      "\n",
      "    accuracy                           0.98      1000\n",
      "   macro avg       0.33      0.33      0.33      1000\n",
      "weighted avg       0.97      0.98      0.98      1000\n",
      "\n",
      "Confusion Matrix:\n",
      " [[  0   8   0]\n",
      " [  2 985   0]\n",
      " [  0   5   0]]\n",
      "NN -------------------------\n"
     ]
    },
    {
     "name": "stderr",
     "output_type": "stream",
     "text": [
      "/Users/anqizhu/opt/anaconda3/lib/python3.9/site-packages/sklearn/metrics/_classification.py:1318: UndefinedMetricWarning: Precision and F-score are ill-defined and being set to 0.0 in labels with no predicted samples. Use `zero_division` parameter to control this behavior.\n",
      "  _warn_prf(average, modifier, msg_start, len(result))\n",
      "/Users/anqizhu/opt/anaconda3/lib/python3.9/site-packages/sklearn/metrics/_classification.py:1318: UndefinedMetricWarning: Precision and F-score are ill-defined and being set to 0.0 in labels with no predicted samples. Use `zero_division` parameter to control this behavior.\n",
      "  _warn_prf(average, modifier, msg_start, len(result))\n",
      "/Users/anqizhu/opt/anaconda3/lib/python3.9/site-packages/sklearn/metrics/_classification.py:1318: UndefinedMetricWarning: Precision and F-score are ill-defined and being set to 0.0 in labels with no predicted samples. Use `zero_division` parameter to control this behavior.\n",
      "  _warn_prf(average, modifier, msg_start, len(result))\n"
     ]
    }
   ],
   "source": [
    "models = ['logistic_regression', 'decision_tree', 'naive_bayes', 'SVC', 'SGD', 'NN']\n",
    "for md in models:\n",
    "    clf = train_models(X_train_vectors_tfidf, y_train, md)\n",
    "    evaluate_models(md, clf, X_valid_vectors_tfidf, y_valid)\n"
   ]
  },
  {
   "cell_type": "code",
   "execution_count": 74,
   "id": "8084871a",
   "metadata": {},
   "outputs": [
    {
     "data": {
      "text/plain": [
       "0.9742722272227222"
      ]
     },
     "execution_count": 74,
     "metadata": {},
     "output_type": "execute_result"
    }
   ],
   "source": [
    "baseline(X_train_vectors_tfidf, y_train, X_valid_vectors_tfidf, y_valid)"
   ]
  },
  {
   "cell_type": "markdown",
   "id": "dc52bcaa",
   "metadata": {},
   "source": [
    "### 2-2 content & apple - connection"
   ]
  },
  {
   "cell_type": "code",
   "execution_count": 95,
   "id": "59d6dce9",
   "metadata": {},
   "outputs": [],
   "source": [
    "X = df[['content', 'if_apple']]  # , 'if_apple', 'if_useful'\n",
    "y = df['connection']\n",
    "# np.random.seed(42)\n",
    "# split the data in training and remaining dataset\n",
    "X_train, X_rem, y_train, y_rem = train_test_split(X, y, train_size=0.6, stratify=y)\n",
    "# split the remaining to validation and test \n",
    "X_valid, X_test, y_valid, y_test = train_test_split(X_rem, y_rem, train_size=0.5, stratify=y_rem)\n",
    "\n",
    "# TF-IDF \n",
    "tfidf_vectorizer = TfidfVectorizer()\n",
    "X_train_vectors_tfidf = tfidf_vectorizer.fit_transform(X_train.iloc[:, 0]) \n",
    "X_valid_vectors_tfidf = tfidf_vectorizer.transform(X_valid.iloc[:, 0]) \n",
    "# X_test_vectors_tfidf = tfidf_vectorizer.transform(X_test) \n"
   ]
  },
  {
   "cell_type": "code",
   "execution_count": 96,
   "id": "a7c5af9a",
   "metadata": {},
   "outputs": [
    {
     "name": "stdout",
     "output_type": "stream",
     "text": [
      "(3000, 1329)\n",
      "(1000, 1329)\n"
     ]
    }
   ],
   "source": [
    "X_train_vectors_tfidf = pd.DataFrame(X_train_vectors_tfidf.toarray()).join(X_train[['if_apple']].reset_index())\n",
    "X_valid_vectors_tfidf = pd.DataFrame(X_valid_vectors_tfidf.toarray()).join(X_valid[['if_apple']].reset_index())\n",
    "print(X_train_vectors_tfidf.shape)\n",
    "print(X_valid_vectors_tfidf.shape)"
   ]
  },
  {
   "cell_type": "code",
   "execution_count": 98,
   "id": "e37740e2",
   "metadata": {},
   "outputs": [
    {
     "name": "stderr",
     "output_type": "stream",
     "text": [
      "/Users/anqizhu/opt/anaconda3/lib/python3.9/site-packages/sklearn/utils/validation.py:1688: FutureWarning: Feature names only support names that are all strings. Got feature names with dtypes: ['int', 'str']. An error will be raised in 1.2.\n",
      "  warnings.warn(\n",
      "/Users/anqizhu/opt/anaconda3/lib/python3.9/site-packages/sklearn/utils/validation.py:1688: FutureWarning: Feature names only support names that are all strings. Got feature names with dtypes: ['int', 'str']. An error will be raised in 1.2.\n",
      "  warnings.warn(\n",
      "/Users/anqizhu/opt/anaconda3/lib/python3.9/site-packages/sklearn/utils/validation.py:1688: FutureWarning: Feature names only support names that are all strings. Got feature names with dtypes: ['int', 'str']. An error will be raised in 1.2.\n",
      "  warnings.warn(\n",
      "/Users/anqizhu/opt/anaconda3/lib/python3.9/site-packages/sklearn/metrics/_classification.py:1318: UndefinedMetricWarning: Precision and F-score are ill-defined and being set to 0.0 in labels with no predicted samples. Use `zero_division` parameter to control this behavior.\n",
      "  _warn_prf(average, modifier, msg_start, len(result))\n",
      "/Users/anqizhu/opt/anaconda3/lib/python3.9/site-packages/sklearn/metrics/_classification.py:1318: UndefinedMetricWarning: Precision and F-score are ill-defined and being set to 0.0 in labels with no predicted samples. Use `zero_division` parameter to control this behavior.\n",
      "  _warn_prf(average, modifier, msg_start, len(result))\n",
      "/Users/anqizhu/opt/anaconda3/lib/python3.9/site-packages/sklearn/metrics/_classification.py:1318: UndefinedMetricWarning: Precision and F-score are ill-defined and being set to 0.0 in labels with no predicted samples. Use `zero_division` parameter to control this behavior.\n",
      "  _warn_prf(average, modifier, msg_start, len(result))\n",
      "/Users/anqizhu/opt/anaconda3/lib/python3.9/site-packages/sklearn/utils/validation.py:1688: FutureWarning: Feature names only support names that are all strings. Got feature names with dtypes: ['int', 'str']. An error will be raised in 1.2.\n",
      "  warnings.warn(\n"
     ]
    },
    {
     "name": "stdout",
     "output_type": "stream",
     "text": [
      "              precision    recall  f1-score   support\n",
      "\n",
      "          -1       0.00      0.00      0.00         8\n",
      "           0       0.99      1.00      0.99       987\n",
      "           1       0.00      0.00      0.00         5\n",
      "\n",
      "    accuracy                           0.99      1000\n",
      "   macro avg       0.33      0.33      0.33      1000\n",
      "weighted avg       0.97      0.99      0.98      1000\n",
      "\n",
      "Confusion Matrix:\n",
      " [[  0   8   0]\n",
      " [  0 987   0]\n",
      " [  0   5   0]]\n",
      "logistic_regression -------------------------\n"
     ]
    },
    {
     "name": "stderr",
     "output_type": "stream",
     "text": [
      "/Users/anqizhu/opt/anaconda3/lib/python3.9/site-packages/sklearn/utils/validation.py:1688: FutureWarning: Feature names only support names that are all strings. Got feature names with dtypes: ['int', 'str']. An error will be raised in 1.2.\n",
      "  warnings.warn(\n",
      "/Users/anqizhu/opt/anaconda3/lib/python3.9/site-packages/sklearn/utils/validation.py:1688: FutureWarning: Feature names only support names that are all strings. Got feature names with dtypes: ['int', 'str']. An error will be raised in 1.2.\n",
      "  warnings.warn(\n",
      "/Users/anqizhu/opt/anaconda3/lib/python3.9/site-packages/sklearn/utils/validation.py:1688: FutureWarning: Feature names only support names that are all strings. Got feature names with dtypes: ['int', 'str']. An error will be raised in 1.2.\n",
      "  warnings.warn(\n"
     ]
    },
    {
     "name": "stdout",
     "output_type": "stream",
     "text": [
      "              precision    recall  f1-score   support\n",
      "\n",
      "          -1       0.33      0.25      0.29         8\n",
      "           0       0.99      0.99      0.99       987\n",
      "           1       0.00      0.00      0.00         5\n",
      "\n",
      "    accuracy                           0.98      1000\n",
      "   macro avg       0.44      0.41      0.42      1000\n",
      "weighted avg       0.98      0.98      0.98      1000\n",
      "\n",
      "Confusion Matrix:\n",
      " [[  2   6   0]\n",
      " [  4 975   8]\n",
      " [  0   5   0]]\n",
      "decision_tree -------------------------\n"
     ]
    },
    {
     "name": "stderr",
     "output_type": "stream",
     "text": [
      "/Users/anqizhu/opt/anaconda3/lib/python3.9/site-packages/sklearn/utils/validation.py:1688: FutureWarning: Feature names only support names that are all strings. Got feature names with dtypes: ['int', 'str']. An error will be raised in 1.2.\n",
      "  warnings.warn(\n",
      "/Users/anqizhu/opt/anaconda3/lib/python3.9/site-packages/sklearn/utils/validation.py:1688: FutureWarning: Feature names only support names that are all strings. Got feature names with dtypes: ['int', 'str']. An error will be raised in 1.2.\n",
      "  warnings.warn(\n",
      "/Users/anqizhu/opt/anaconda3/lib/python3.9/site-packages/sklearn/metrics/_classification.py:1318: UndefinedMetricWarning: Precision and F-score are ill-defined and being set to 0.0 in labels with no predicted samples. Use `zero_division` parameter to control this behavior.\n",
      "  _warn_prf(average, modifier, msg_start, len(result))\n",
      "/Users/anqizhu/opt/anaconda3/lib/python3.9/site-packages/sklearn/metrics/_classification.py:1318: UndefinedMetricWarning: Precision and F-score are ill-defined and being set to 0.0 in labels with no predicted samples. Use `zero_division` parameter to control this behavior.\n",
      "  _warn_prf(average, modifier, msg_start, len(result))\n",
      "/Users/anqizhu/opt/anaconda3/lib/python3.9/site-packages/sklearn/metrics/_classification.py:1318: UndefinedMetricWarning: Precision and F-score are ill-defined and being set to 0.0 in labels with no predicted samples. Use `zero_division` parameter to control this behavior.\n",
      "  _warn_prf(average, modifier, msg_start, len(result))\n",
      "/Users/anqizhu/opt/anaconda3/lib/python3.9/site-packages/sklearn/utils/validation.py:1688: FutureWarning: Feature names only support names that are all strings. Got feature names with dtypes: ['int', 'str']. An error will be raised in 1.2.\n",
      "  warnings.warn(\n"
     ]
    },
    {
     "name": "stdout",
     "output_type": "stream",
     "text": [
      "              precision    recall  f1-score   support\n",
      "\n",
      "          -1       0.00      0.00      0.00         8\n",
      "           0       0.99      1.00      0.99       987\n",
      "           1       0.00      0.00      0.00         5\n",
      "\n",
      "    accuracy                           0.99      1000\n",
      "   macro avg       0.33      0.33      0.33      1000\n",
      "weighted avg       0.97      0.99      0.98      1000\n",
      "\n",
      "Confusion Matrix:\n",
      " [[  0   8   0]\n",
      " [  0 987   0]\n",
      " [  0   5   0]]\n",
      "SVC -------------------------\n",
      "              precision    recall  f1-score   support\n",
      "\n",
      "          -1       0.00      0.00      0.00         8\n",
      "           0       0.99      0.99      0.99       987\n",
      "           1       0.00      0.00      0.00         5\n",
      "\n",
      "    accuracy                           0.98      1000\n",
      "   macro avg       0.33      0.33      0.33      1000\n",
      "weighted avg       0.97      0.98      0.98      1000\n",
      "\n",
      "Confusion Matrix:\n",
      " [[  0   8   0]\n",
      " [  6 981   0]\n",
      " [  0   5   0]]\n",
      "naive_bayes -------------------------\n"
     ]
    },
    {
     "name": "stderr",
     "output_type": "stream",
     "text": [
      "/Users/anqizhu/opt/anaconda3/lib/python3.9/site-packages/sklearn/utils/validation.py:1688: FutureWarning: Feature names only support names that are all strings. Got feature names with dtypes: ['int', 'str']. An error will be raised in 1.2.\n",
      "  warnings.warn(\n",
      "/Users/anqizhu/opt/anaconda3/lib/python3.9/site-packages/sklearn/utils/validation.py:1688: FutureWarning: Feature names only support names that are all strings. Got feature names with dtypes: ['int', 'str']. An error will be raised in 1.2.\n",
      "  warnings.warn(\n",
      "/Users/anqizhu/opt/anaconda3/lib/python3.9/site-packages/sklearn/metrics/_classification.py:1318: UndefinedMetricWarning: Precision and F-score are ill-defined and being set to 0.0 in labels with no predicted samples. Use `zero_division` parameter to control this behavior.\n",
      "  _warn_prf(average, modifier, msg_start, len(result))\n",
      "/Users/anqizhu/opt/anaconda3/lib/python3.9/site-packages/sklearn/metrics/_classification.py:1318: UndefinedMetricWarning: Precision and F-score are ill-defined and being set to 0.0 in labels with no predicted samples. Use `zero_division` parameter to control this behavior.\n",
      "  _warn_prf(average, modifier, msg_start, len(result))\n",
      "/Users/anqizhu/opt/anaconda3/lib/python3.9/site-packages/sklearn/metrics/_classification.py:1318: UndefinedMetricWarning: Precision and F-score are ill-defined and being set to 0.0 in labels with no predicted samples. Use `zero_division` parameter to control this behavior.\n",
      "  _warn_prf(average, modifier, msg_start, len(result))\n",
      "/Users/anqizhu/opt/anaconda3/lib/python3.9/site-packages/sklearn/utils/validation.py:1688: FutureWarning: Feature names only support names that are all strings. Got feature names with dtypes: ['int', 'str']. An error will be raised in 1.2.\n",
      "  warnings.warn(\n",
      "/Users/anqizhu/opt/anaconda3/lib/python3.9/site-packages/sklearn/utils/validation.py:1688: FutureWarning: Feature names only support names that are all strings. Got feature names with dtypes: ['int', 'str']. An error will be raised in 1.2.\n",
      "  warnings.warn(\n",
      "/Users/anqizhu/opt/anaconda3/lib/python3.9/site-packages/sklearn/utils/validation.py:1688: FutureWarning: Feature names only support names that are all strings. Got feature names with dtypes: ['int', 'str']. An error will be raised in 1.2.\n",
      "  warnings.warn(\n",
      "/Users/anqizhu/opt/anaconda3/lib/python3.9/site-packages/sklearn/metrics/_classification.py:1318: UndefinedMetricWarning: Precision and F-score are ill-defined and being set to 0.0 in labels with no predicted samples. Use `zero_division` parameter to control this behavior.\n",
      "  _warn_prf(average, modifier, msg_start, len(result))\n",
      "/Users/anqizhu/opt/anaconda3/lib/python3.9/site-packages/sklearn/metrics/_classification.py:1318: UndefinedMetricWarning: Precision and F-score are ill-defined and being set to 0.0 in labels with no predicted samples. Use `zero_division` parameter to control this behavior.\n",
      "  _warn_prf(average, modifier, msg_start, len(result))\n",
      "/Users/anqizhu/opt/anaconda3/lib/python3.9/site-packages/sklearn/metrics/_classification.py:1318: UndefinedMetricWarning: Precision and F-score are ill-defined and being set to 0.0 in labels with no predicted samples. Use `zero_division` parameter to control this behavior.\n",
      "  _warn_prf(average, modifier, msg_start, len(result))\n",
      "/Users/anqizhu/opt/anaconda3/lib/python3.9/site-packages/sklearn/utils/validation.py:1688: FutureWarning: Feature names only support names that are all strings. Got feature names with dtypes: ['int', 'str']. An error will be raised in 1.2.\n",
      "  warnings.warn(\n"
     ]
    },
    {
     "name": "stdout",
     "output_type": "stream",
     "text": [
      "              precision    recall  f1-score   support\n",
      "\n",
      "          -1       0.00      0.00      0.00         8\n",
      "           0       0.99      1.00      0.99       987\n",
      "           1       0.00      0.00      0.00         5\n",
      "\n",
      "    accuracy                           0.99      1000\n",
      "   macro avg       0.33      0.33      0.33      1000\n",
      "weighted avg       0.97      0.99      0.98      1000\n",
      "\n",
      "Confusion Matrix:\n",
      " [[  0   8   0]\n",
      " [  0 987   0]\n",
      " [  0   5   0]]\n",
      "SGD -------------------------\n",
      "              precision    recall  f1-score   support\n",
      "\n",
      "          -1       0.00      0.00      0.00         8\n",
      "           0       0.99      1.00      0.99       987\n",
      "           1       0.00      0.00      0.00         5\n",
      "\n",
      "    accuracy                           0.99      1000\n",
      "   macro avg       0.33      0.33      0.33      1000\n",
      "weighted avg       0.97      0.99      0.98      1000\n",
      "\n",
      "Confusion Matrix:\n",
      " [[  0   8   0]\n",
      " [  0 987   0]\n",
      " [  0   5   0]]\n",
      "NN -------------------------\n"
     ]
    },
    {
     "name": "stderr",
     "output_type": "stream",
     "text": [
      "/Users/anqizhu/opt/anaconda3/lib/python3.9/site-packages/sklearn/utils/validation.py:1688: FutureWarning: Feature names only support names that are all strings. Got feature names with dtypes: ['int', 'str']. An error will be raised in 1.2.\n",
      "  warnings.warn(\n",
      "/Users/anqizhu/opt/anaconda3/lib/python3.9/site-packages/sklearn/utils/validation.py:1688: FutureWarning: Feature names only support names that are all strings. Got feature names with dtypes: ['int', 'str']. An error will be raised in 1.2.\n",
      "  warnings.warn(\n",
      "/Users/anqizhu/opt/anaconda3/lib/python3.9/site-packages/sklearn/metrics/_classification.py:1318: UndefinedMetricWarning: Precision and F-score are ill-defined and being set to 0.0 in labels with no predicted samples. Use `zero_division` parameter to control this behavior.\n",
      "  _warn_prf(average, modifier, msg_start, len(result))\n",
      "/Users/anqizhu/opt/anaconda3/lib/python3.9/site-packages/sklearn/metrics/_classification.py:1318: UndefinedMetricWarning: Precision and F-score are ill-defined and being set to 0.0 in labels with no predicted samples. Use `zero_division` parameter to control this behavior.\n",
      "  _warn_prf(average, modifier, msg_start, len(result))\n",
      "/Users/anqizhu/opt/anaconda3/lib/python3.9/site-packages/sklearn/metrics/_classification.py:1318: UndefinedMetricWarning: Precision and F-score are ill-defined and being set to 0.0 in labels with no predicted samples. Use `zero_division` parameter to control this behavior.\n",
      "  _warn_prf(average, modifier, msg_start, len(result))\n"
     ]
    }
   ],
   "source": [
    "models = ['logistic_regression', 'decision_tree', 'SVC', 'naive_bayes', 'SGD', 'NN'] \n",
    "for md in models:\n",
    "    clf = train_models(X_train_vectors_tfidf, y_train, md)\n",
    "    evaluate_models(md, clf, X_valid_vectors_tfidf, y_valid)\n"
   ]
  },
  {
   "cell_type": "code",
   "execution_count": 78,
   "id": "72c02b12",
   "metadata": {},
   "outputs": [
    {
     "data": {
      "text/plain": [
       "0.9742720272027203"
      ]
     },
     "execution_count": 78,
     "metadata": {},
     "output_type": "execute_result"
    }
   ],
   "source": [
    "baseline(X_train_vectors_tfidf, y_train, X_valid_vectors_tfidf, y_valid)"
   ]
  },
  {
   "cell_type": "markdown",
   "id": "38a97c92",
   "metadata": {},
   "source": [
    "### 3-3 content & apple & useful - other-tech"
   ]
  },
  {
   "cell_type": "code",
   "execution_count": 80,
   "id": "2d6029a9",
   "metadata": {},
   "outputs": [],
   "source": [
    "X = df[['content', 'if_apple', 'if_useful']]  # , 'if_apple', 'if_useful'\n",
    "y = df['other-tech']\n",
    "# np.random.seed(42)\n",
    "# split the data in training and remaining dataset\n",
    "X_train, X_rem, y_train, y_rem = train_test_split(X, y, train_size=0.6, stratify=y)\n",
    "# split the remaining to validation and test \n",
    "X_valid, X_test, y_valid, y_test = train_test_split(X_rem, y_rem, train_size=0.5, stratify=y_rem)\n",
    "\n",
    "# TF-IDF \n",
    "tfidf_vectorizer = TfidfVectorizer()\n",
    "X_train_vectors_tfidf = tfidf_vectorizer.fit_transform(X_train.iloc[:, 0]) \n",
    "X_valid_vectors_tfidf = tfidf_vectorizer.transform(X_valid.iloc[:, 0]) \n",
    "# X_test_vectors_tfidf = tfidf_vectorizer.transform(X_test) "
   ]
  },
  {
   "cell_type": "code",
   "execution_count": 81,
   "id": "a39f0600",
   "metadata": {},
   "outputs": [
    {
     "name": "stdout",
     "output_type": "stream",
     "text": [
      "(3000, 1264)\n",
      "(1000, 1264)\n"
     ]
    }
   ],
   "source": [
    "X_train_vectors_tfidf = pd.DataFrame(X_train_vectors_tfidf.toarray()).join(X_train[['if_apple', 'if_useful']].reset_index())\n",
    "X_valid_vectors_tfidf = pd.DataFrame(X_valid_vectors_tfidf.toarray()).join(X_valid[['if_apple', 'if_useful']].reset_index())\n",
    "print(X_train_vectors_tfidf.shape)\n",
    "print(X_valid_vectors_tfidf.shape)"
   ]
  },
  {
   "cell_type": "code",
   "execution_count": 99,
   "id": "14cc4cdd",
   "metadata": {},
   "outputs": [
    {
     "name": "stderr",
     "output_type": "stream",
     "text": [
      "/Users/anqizhu/opt/anaconda3/lib/python3.9/site-packages/sklearn/utils/validation.py:1688: FutureWarning: Feature names only support names that are all strings. Got feature names with dtypes: ['int', 'str']. An error will be raised in 1.2.\n",
      "  warnings.warn(\n",
      "/Users/anqizhu/opt/anaconda3/lib/python3.9/site-packages/sklearn/utils/validation.py:1688: FutureWarning: Feature names only support names that are all strings. Got feature names with dtypes: ['int', 'str']. An error will be raised in 1.2.\n",
      "  warnings.warn(\n",
      "/Users/anqizhu/opt/anaconda3/lib/python3.9/site-packages/sklearn/utils/validation.py:1688: FutureWarning: Feature names only support names that are all strings. Got feature names with dtypes: ['int', 'str']. An error will be raised in 1.2.\n",
      "  warnings.warn(\n",
      "/Users/anqizhu/opt/anaconda3/lib/python3.9/site-packages/sklearn/metrics/_classification.py:1318: UndefinedMetricWarning: Precision and F-score are ill-defined and being set to 0.0 in labels with no predicted samples. Use `zero_division` parameter to control this behavior.\n",
      "  _warn_prf(average, modifier, msg_start, len(result))\n",
      "/Users/anqizhu/opt/anaconda3/lib/python3.9/site-packages/sklearn/metrics/_classification.py:1318: UndefinedMetricWarning: Precision and F-score are ill-defined and being set to 0.0 in labels with no predicted samples. Use `zero_division` parameter to control this behavior.\n",
      "  _warn_prf(average, modifier, msg_start, len(result))\n",
      "/Users/anqizhu/opt/anaconda3/lib/python3.9/site-packages/sklearn/metrics/_classification.py:1318: UndefinedMetricWarning: Precision and F-score are ill-defined and being set to 0.0 in labels with no predicted samples. Use `zero_division` parameter to control this behavior.\n",
      "  _warn_prf(average, modifier, msg_start, len(result))\n",
      "/Users/anqizhu/opt/anaconda3/lib/python3.9/site-packages/sklearn/utils/validation.py:1688: FutureWarning: Feature names only support names that are all strings. Got feature names with dtypes: ['int', 'str']. An error will be raised in 1.2.\n",
      "  warnings.warn(\n"
     ]
    },
    {
     "name": "stdout",
     "output_type": "stream",
     "text": [
      "              precision    recall  f1-score   support\n",
      "\n",
      "          -1       0.00      0.00      0.00         8\n",
      "           0       0.99      1.00      0.99       987\n",
      "           1       0.00      0.00      0.00         5\n",
      "\n",
      "    accuracy                           0.99      1000\n",
      "   macro avg       0.33      0.33      0.33      1000\n",
      "weighted avg       0.97      0.99      0.98      1000\n",
      "\n",
      "Confusion Matrix:\n",
      " [[  0   8   0]\n",
      " [  0 987   0]\n",
      " [  0   5   0]]\n",
      "logistic_regression -------------------------\n"
     ]
    },
    {
     "name": "stderr",
     "output_type": "stream",
     "text": [
      "/Users/anqizhu/opt/anaconda3/lib/python3.9/site-packages/sklearn/utils/validation.py:1688: FutureWarning: Feature names only support names that are all strings. Got feature names with dtypes: ['int', 'str']. An error will be raised in 1.2.\n",
      "  warnings.warn(\n",
      "/Users/anqizhu/opt/anaconda3/lib/python3.9/site-packages/sklearn/utils/validation.py:1688: FutureWarning: Feature names only support names that are all strings. Got feature names with dtypes: ['int', 'str']. An error will be raised in 1.2.\n",
      "  warnings.warn(\n",
      "/Users/anqizhu/opt/anaconda3/lib/python3.9/site-packages/sklearn/utils/validation.py:1688: FutureWarning: Feature names only support names that are all strings. Got feature names with dtypes: ['int', 'str']. An error will be raised in 1.2.\n",
      "  warnings.warn(\n",
      "/Users/anqizhu/opt/anaconda3/lib/python3.9/site-packages/sklearn/utils/validation.py:1688: FutureWarning: Feature names only support names that are all strings. Got feature names with dtypes: ['int', 'str']. An error will be raised in 1.2.\n",
      "  warnings.warn(\n",
      "/Users/anqizhu/opt/anaconda3/lib/python3.9/site-packages/sklearn/utils/validation.py:1688: FutureWarning: Feature names only support names that are all strings. Got feature names with dtypes: ['int', 'str']. An error will be raised in 1.2.\n",
      "  warnings.warn(\n",
      "/Users/anqizhu/opt/anaconda3/lib/python3.9/site-packages/sklearn/metrics/_classification.py:1318: UndefinedMetricWarning: Precision and F-score are ill-defined and being set to 0.0 in labels with no predicted samples. Use `zero_division` parameter to control this behavior.\n",
      "  _warn_prf(average, modifier, msg_start, len(result))\n",
      "/Users/anqizhu/opt/anaconda3/lib/python3.9/site-packages/sklearn/metrics/_classification.py:1318: UndefinedMetricWarning: Precision and F-score are ill-defined and being set to 0.0 in labels with no predicted samples. Use `zero_division` parameter to control this behavior.\n",
      "  _warn_prf(average, modifier, msg_start, len(result))\n",
      "/Users/anqizhu/opt/anaconda3/lib/python3.9/site-packages/sklearn/metrics/_classification.py:1318: UndefinedMetricWarning: Precision and F-score are ill-defined and being set to 0.0 in labels with no predicted samples. Use `zero_division` parameter to control this behavior.\n",
      "  _warn_prf(average, modifier, msg_start, len(result))\n",
      "/Users/anqizhu/opt/anaconda3/lib/python3.9/site-packages/sklearn/utils/validation.py:1688: FutureWarning: Feature names only support names that are all strings. Got feature names with dtypes: ['int', 'str']. An error will be raised in 1.2.\n",
      "  warnings.warn(\n"
     ]
    },
    {
     "name": "stdout",
     "output_type": "stream",
     "text": [
      "              precision    recall  f1-score   support\n",
      "\n",
      "          -1       0.25      0.38      0.30         8\n",
      "           0       0.99      0.98      0.99       987\n",
      "           1       0.00      0.00      0.00         5\n",
      "\n",
      "    accuracy                           0.97      1000\n",
      "   macro avg       0.41      0.45      0.43      1000\n",
      "weighted avg       0.98      0.97      0.98      1000\n",
      "\n",
      "Confusion Matrix:\n",
      " [[  3   3   2]\n",
      " [  8 972   7]\n",
      " [  1   4   0]]\n",
      "decision_tree -------------------------\n",
      "              precision    recall  f1-score   support\n",
      "\n",
      "          -1       0.00      0.00      0.00         8\n",
      "           0       0.99      0.99      0.99       987\n",
      "           1       0.00      0.00      0.00         5\n",
      "\n",
      "    accuracy                           0.98      1000\n",
      "   macro avg       0.33      0.33      0.33      1000\n",
      "weighted avg       0.97      0.98      0.98      1000\n",
      "\n",
      "Confusion Matrix:\n",
      " [[  0   8   0]\n",
      " [  6 981   0]\n",
      " [  0   5   0]]\n",
      "naive_bayes -------------------------\n"
     ]
    },
    {
     "name": "stderr",
     "output_type": "stream",
     "text": [
      "/Users/anqizhu/opt/anaconda3/lib/python3.9/site-packages/sklearn/utils/validation.py:1688: FutureWarning: Feature names only support names that are all strings. Got feature names with dtypes: ['int', 'str']. An error will be raised in 1.2.\n",
      "  warnings.warn(\n",
      "/Users/anqizhu/opt/anaconda3/lib/python3.9/site-packages/sklearn/utils/validation.py:1688: FutureWarning: Feature names only support names that are all strings. Got feature names with dtypes: ['int', 'str']. An error will be raised in 1.2.\n",
      "  warnings.warn(\n",
      "/Users/anqizhu/opt/anaconda3/lib/python3.9/site-packages/sklearn/metrics/_classification.py:1318: UndefinedMetricWarning: Precision and F-score are ill-defined and being set to 0.0 in labels with no predicted samples. Use `zero_division` parameter to control this behavior.\n",
      "  _warn_prf(average, modifier, msg_start, len(result))\n",
      "/Users/anqizhu/opt/anaconda3/lib/python3.9/site-packages/sklearn/metrics/_classification.py:1318: UndefinedMetricWarning: Precision and F-score are ill-defined and being set to 0.0 in labels with no predicted samples. Use `zero_division` parameter to control this behavior.\n",
      "  _warn_prf(average, modifier, msg_start, len(result))\n",
      "/Users/anqizhu/opt/anaconda3/lib/python3.9/site-packages/sklearn/metrics/_classification.py:1318: UndefinedMetricWarning: Precision and F-score are ill-defined and being set to 0.0 in labels with no predicted samples. Use `zero_division` parameter to control this behavior.\n",
      "  _warn_prf(average, modifier, msg_start, len(result))\n",
      "/Users/anqizhu/opt/anaconda3/lib/python3.9/site-packages/sklearn/utils/validation.py:1688: FutureWarning: Feature names only support names that are all strings. Got feature names with dtypes: ['int', 'str']. An error will be raised in 1.2.\n",
      "  warnings.warn(\n"
     ]
    },
    {
     "name": "stdout",
     "output_type": "stream",
     "text": [
      "              precision    recall  f1-score   support\n",
      "\n",
      "          -1       0.00      0.00      0.00         8\n",
      "           0       0.99      1.00      0.99       987\n",
      "           1       0.00      0.00      0.00         5\n",
      "\n",
      "    accuracy                           0.99      1000\n",
      "   macro avg       0.33      0.33      0.33      1000\n",
      "weighted avg       0.97      0.99      0.98      1000\n",
      "\n",
      "Confusion Matrix:\n",
      " [[  0   8   0]\n",
      " [  0 987   0]\n",
      " [  0   5   0]]\n",
      "SVC -------------------------\n"
     ]
    },
    {
     "name": "stderr",
     "output_type": "stream",
     "text": [
      "/Users/anqizhu/opt/anaconda3/lib/python3.9/site-packages/sklearn/utils/validation.py:1688: FutureWarning: Feature names only support names that are all strings. Got feature names with dtypes: ['int', 'str']. An error will be raised in 1.2.\n",
      "  warnings.warn(\n",
      "/Users/anqizhu/opt/anaconda3/lib/python3.9/site-packages/sklearn/utils/validation.py:1688: FutureWarning: Feature names only support names that are all strings. Got feature names with dtypes: ['int', 'str']. An error will be raised in 1.2.\n",
      "  warnings.warn(\n",
      "/Users/anqizhu/opt/anaconda3/lib/python3.9/site-packages/sklearn/metrics/_classification.py:1318: UndefinedMetricWarning: Precision and F-score are ill-defined and being set to 0.0 in labels with no predicted samples. Use `zero_division` parameter to control this behavior.\n",
      "  _warn_prf(average, modifier, msg_start, len(result))\n",
      "/Users/anqizhu/opt/anaconda3/lib/python3.9/site-packages/sklearn/metrics/_classification.py:1318: UndefinedMetricWarning: Precision and F-score are ill-defined and being set to 0.0 in labels with no predicted samples. Use `zero_division` parameter to control this behavior.\n",
      "  _warn_prf(average, modifier, msg_start, len(result))\n",
      "/Users/anqizhu/opt/anaconda3/lib/python3.9/site-packages/sklearn/metrics/_classification.py:1318: UndefinedMetricWarning: Precision and F-score are ill-defined and being set to 0.0 in labels with no predicted samples. Use `zero_division` parameter to control this behavior.\n",
      "  _warn_prf(average, modifier, msg_start, len(result))\n",
      "/Users/anqizhu/opt/anaconda3/lib/python3.9/site-packages/sklearn/utils/validation.py:1688: FutureWarning: Feature names only support names that are all strings. Got feature names with dtypes: ['int', 'str']. An error will be raised in 1.2.\n",
      "  warnings.warn(\n"
     ]
    },
    {
     "name": "stdout",
     "output_type": "stream",
     "text": [
      "              precision    recall  f1-score   support\n",
      "\n",
      "          -1       0.00      0.00      0.00         8\n",
      "           0       0.99      1.00      0.99       987\n",
      "           1       0.00      0.00      0.00         5\n",
      "\n",
      "    accuracy                           0.99      1000\n",
      "   macro avg       0.33      0.33      0.33      1000\n",
      "weighted avg       0.97      0.99      0.98      1000\n",
      "\n",
      "Confusion Matrix:\n",
      " [[  0   8   0]\n",
      " [  0 987   0]\n",
      " [  0   5   0]]\n",
      "SGD -------------------------\n",
      "              precision    recall  f1-score   support\n",
      "\n",
      "          -1       0.00      0.00      0.00         8\n",
      "           0       0.99      1.00      0.99       987\n",
      "           1       0.00      0.00      0.00         5\n",
      "\n",
      "    accuracy                           0.99      1000\n",
      "   macro avg       0.33      0.33      0.33      1000\n",
      "weighted avg       0.97      0.99      0.98      1000\n",
      "\n",
      "Confusion Matrix:\n",
      " [[  0   8   0]\n",
      " [  0 987   0]\n",
      " [  0   5   0]]\n",
      "NN -------------------------\n"
     ]
    },
    {
     "name": "stderr",
     "output_type": "stream",
     "text": [
      "/Users/anqizhu/opt/anaconda3/lib/python3.9/site-packages/sklearn/utils/validation.py:1688: FutureWarning: Feature names only support names that are all strings. Got feature names with dtypes: ['int', 'str']. An error will be raised in 1.2.\n",
      "  warnings.warn(\n",
      "/Users/anqizhu/opt/anaconda3/lib/python3.9/site-packages/sklearn/utils/validation.py:1688: FutureWarning: Feature names only support names that are all strings. Got feature names with dtypes: ['int', 'str']. An error will be raised in 1.2.\n",
      "  warnings.warn(\n",
      "/Users/anqizhu/opt/anaconda3/lib/python3.9/site-packages/sklearn/metrics/_classification.py:1318: UndefinedMetricWarning: Precision and F-score are ill-defined and being set to 0.0 in labels with no predicted samples. Use `zero_division` parameter to control this behavior.\n",
      "  _warn_prf(average, modifier, msg_start, len(result))\n",
      "/Users/anqizhu/opt/anaconda3/lib/python3.9/site-packages/sklearn/metrics/_classification.py:1318: UndefinedMetricWarning: Precision and F-score are ill-defined and being set to 0.0 in labels with no predicted samples. Use `zero_division` parameter to control this behavior.\n",
      "  _warn_prf(average, modifier, msg_start, len(result))\n",
      "/Users/anqizhu/opt/anaconda3/lib/python3.9/site-packages/sklearn/metrics/_classification.py:1318: UndefinedMetricWarning: Precision and F-score are ill-defined and being set to 0.0 in labels with no predicted samples. Use `zero_division` parameter to control this behavior.\n",
      "  _warn_prf(average, modifier, msg_start, len(result))\n"
     ]
    }
   ],
   "source": [
    "models = ['logistic_regression', 'decision_tree', 'naive_bayes', 'SVC', 'SGD', 'NN'] \n",
    "for md in models:\n",
    "    clf = train_models(X_train_vectors_tfidf, y_train, md)\n",
    "    evaluate_models(md, clf, X_valid_vectors_tfidf, y_valid)0\n"
   ]
  },
  {
   "cell_type": "code",
   "execution_count": 83,
   "id": "4cf05011",
   "metadata": {},
   "outputs": [
    {
     "data": {
      "text/plain": [
       "0.9064171417141715"
      ]
     },
     "execution_count": 83,
     "metadata": {},
     "output_type": "execute_result"
    }
   ],
   "source": [
    "baseline(X_train_vectors_tfidf, y_train, X_valid_vectors_tfidf, y_valid)"
   ]
  },
  {
   "cell_type": "markdown",
   "id": "da7af788",
   "metadata": {},
   "source": [
    "### 3-1 content - other-tech"
   ]
  },
  {
   "cell_type": "code",
   "execution_count": 101,
   "id": "6a3bed51",
   "metadata": {},
   "outputs": [],
   "source": [
    "X = df[['content']]  # , 'if_apple', 'if_useful'\n",
    "y = df['other-tech']\n",
    "# np.random.seed(42)\n",
    "# split the data in training and remaining dataset\n",
    "X_train, X_rem, y_train, y_rem = train_test_split(X, y, train_size=0.6, stratify=y)\n",
    "# split the remaining to validation and test \n",
    "X_valid, X_test, y_valid, y_test = train_test_split(X_rem, y_rem, train_size=0.5, stratify=y_rem)\n",
    "\n",
    "# TF-IDF \n",
    "tfidf_vectorizer = TfidfVectorizer()\n",
    "X_train_vectors_tfidf = tfidf_vectorizer.fit_transform(X_train.iloc[:, 0]) \n",
    "X_valid_vectors_tfidf = tfidf_vectorizer.transform(X_valid.iloc[:, 0]) \n",
    "# X_test_vectors_tfidf = tfidf_vectorizer.transform(X_test) "
   ]
  },
  {
   "cell_type": "code",
   "execution_count": 102,
   "id": "6ded1f56",
   "metadata": {},
   "outputs": [
    {
     "name": "stderr",
     "output_type": "stream",
     "text": [
      "/Users/anqizhu/opt/anaconda3/lib/python3.9/site-packages/sklearn/metrics/_classification.py:1318: UndefinedMetricWarning: Precision and F-score are ill-defined and being set to 0.0 in labels with no predicted samples. Use `zero_division` parameter to control this behavior.\n",
      "  _warn_prf(average, modifier, msg_start, len(result))\n",
      "/Users/anqizhu/opt/anaconda3/lib/python3.9/site-packages/sklearn/metrics/_classification.py:1318: UndefinedMetricWarning: Precision and F-score are ill-defined and being set to 0.0 in labels with no predicted samples. Use `zero_division` parameter to control this behavior.\n",
      "  _warn_prf(average, modifier, msg_start, len(result))\n",
      "/Users/anqizhu/opt/anaconda3/lib/python3.9/site-packages/sklearn/metrics/_classification.py:1318: UndefinedMetricWarning: Precision and F-score are ill-defined and being set to 0.0 in labels with no predicted samples. Use `zero_division` parameter to control this behavior.\n",
      "  _warn_prf(average, modifier, msg_start, len(result))\n",
      "/Users/anqizhu/opt/anaconda3/lib/python3.9/site-packages/sklearn/metrics/_classification.py:1318: UndefinedMetricWarning: Precision and F-score are ill-defined and being set to 0.0 in labels with no predicted samples. Use `zero_division` parameter to control this behavior.\n",
      "  _warn_prf(average, modifier, msg_start, len(result))\n",
      "/Users/anqizhu/opt/anaconda3/lib/python3.9/site-packages/sklearn/metrics/_classification.py:1318: UndefinedMetricWarning: Precision and F-score are ill-defined and being set to 0.0 in labels with no predicted samples. Use `zero_division` parameter to control this behavior.\n",
      "  _warn_prf(average, modifier, msg_start, len(result))\n",
      "/Users/anqizhu/opt/anaconda3/lib/python3.9/site-packages/sklearn/metrics/_classification.py:1318: UndefinedMetricWarning: Precision and F-score are ill-defined and being set to 0.0 in labels with no predicted samples. Use `zero_division` parameter to control this behavior.\n",
      "  _warn_prf(average, modifier, msg_start, len(result))\n"
     ]
    },
    {
     "name": "stdout",
     "output_type": "stream",
     "text": [
      "              precision    recall  f1-score   support\n",
      "\n",
      "          -1       0.50      0.02      0.04        46\n",
      "           0       0.95      1.00      0.97       951\n",
      "           1       0.00      0.00      0.00         3\n",
      "\n",
      "    accuracy                           0.95      1000\n",
      "   macro avg       0.48      0.34      0.34      1000\n",
      "weighted avg       0.93      0.95      0.93      1000\n",
      "\n",
      "Confusion Matrix:\n",
      " [[  1  45   0]\n",
      " [  1 950   0]\n",
      " [  0   3   0]]\n",
      "logistic_regression -------------------------\n",
      "              precision    recall  f1-score   support\n",
      "\n",
      "          -1       0.18      0.17      0.18        46\n",
      "           0       0.96      0.96      0.96       951\n",
      "           1       0.00      0.00      0.00         3\n",
      "\n",
      "    accuracy                           0.92      1000\n",
      "   macro avg       0.38      0.38      0.38      1000\n",
      "weighted avg       0.92      0.92      0.92      1000\n",
      "\n",
      "Confusion Matrix:\n",
      " [[  8  37   1]\n",
      " [ 37 913   1]\n",
      " [  0   3   0]]\n",
      "decision_tree -------------------------\n",
      "              precision    recall  f1-score   support\n",
      "\n",
      "          -1       0.19      0.24      0.21        46\n",
      "           0       0.96      0.95      0.96       951\n",
      "           1       0.00      0.00      0.00         3\n",
      "\n",
      "    accuracy                           0.92      1000\n",
      "   macro avg       0.38      0.40      0.39      1000\n",
      "weighted avg       0.92      0.92      0.92      1000\n",
      "\n",
      "Confusion Matrix:\n",
      " [[ 11  35   0]\n",
      " [ 47 904   0]\n",
      " [  0   3   0]]\n",
      "naive_bayes -------------------------\n"
     ]
    },
    {
     "name": "stderr",
     "output_type": "stream",
     "text": [
      "/Users/anqizhu/opt/anaconda3/lib/python3.9/site-packages/sklearn/metrics/_classification.py:1318: UndefinedMetricWarning: Precision and F-score are ill-defined and being set to 0.0 in labels with no predicted samples. Use `zero_division` parameter to control this behavior.\n",
      "  _warn_prf(average, modifier, msg_start, len(result))\n",
      "/Users/anqizhu/opt/anaconda3/lib/python3.9/site-packages/sklearn/metrics/_classification.py:1318: UndefinedMetricWarning: Precision and F-score are ill-defined and being set to 0.0 in labels with no predicted samples. Use `zero_division` parameter to control this behavior.\n",
      "  _warn_prf(average, modifier, msg_start, len(result))\n",
      "/Users/anqizhu/opt/anaconda3/lib/python3.9/site-packages/sklearn/metrics/_classification.py:1318: UndefinedMetricWarning: Precision and F-score are ill-defined and being set to 0.0 in labels with no predicted samples. Use `zero_division` parameter to control this behavior.\n",
      "  _warn_prf(average, modifier, msg_start, len(result))\n"
     ]
    },
    {
     "name": "stdout",
     "output_type": "stream",
     "text": [
      "              precision    recall  f1-score   support\n",
      "\n",
      "          -1       0.00      0.00      0.00        46\n",
      "           0       0.95      1.00      0.97       951\n",
      "           1       0.00      0.00      0.00         3\n",
      "\n",
      "    accuracy                           0.95      1000\n",
      "   macro avg       0.32      0.33      0.32      1000\n",
      "weighted avg       0.90      0.95      0.93      1000\n",
      "\n",
      "Confusion Matrix:\n",
      " [[  0  46   0]\n",
      " [  0 951   0]\n",
      " [  0   3   0]]\n",
      "SVC -------------------------\n",
      "              precision    recall  f1-score   support\n",
      "\n",
      "          -1       0.28      0.17      0.21        46\n",
      "           0       0.96      0.98      0.97       951\n",
      "           1       0.00      0.00      0.00         3\n",
      "\n",
      "    accuracy                           0.94      1000\n",
      "   macro avg       0.41      0.38      0.39      1000\n",
      "weighted avg       0.92      0.94      0.93      1000\n",
      "\n",
      "Confusion Matrix:\n",
      " [[  8  38   0]\n",
      " [ 21 929   1]\n",
      " [  0   3   0]]\n",
      "SGD -------------------------\n",
      "              precision    recall  f1-score   support\n",
      "\n",
      "          -1       0.20      0.13      0.16        46\n",
      "           0       0.96      0.97      0.96       951\n",
      "           1       0.00      0.00      0.00         3\n",
      "\n",
      "    accuracy                           0.93      1000\n",
      "   macro avg       0.39      0.37      0.37      1000\n",
      "weighted avg       0.92      0.93      0.92      1000\n",
      "\n",
      "Confusion Matrix:\n",
      " [[  6  40   0]\n",
      " [ 24 926   1]\n",
      " [  0   3   0]]\n",
      "NN -------------------------\n"
     ]
    }
   ],
   "source": [
    "models = ['logistic_regression', 'decision_tree', 'naive_bayes', 'SVC', 'SGD', 'NN']\n",
    "for md in models:\n",
    "    clf = train_models(X_train_vectors_tfidf, y_train, md)\n",
    "    evaluate_models(md, clf, X_valid_vectors_tfidf, y_valid)\n"
   ]
  },
  {
   "cell_type": "code",
   "execution_count": 87,
   "id": "74acfc2a",
   "metadata": {},
   "outputs": [
    {
     "data": {
      "text/plain": [
       "0.9064412441244125"
      ]
     },
     "execution_count": 87,
     "metadata": {},
     "output_type": "execute_result"
    }
   ],
   "source": [
    "baseline(X_train_vectors_tfidf, y_train, X_valid_vectors_tfidf, y_valid)"
   ]
  },
  {
   "cell_type": "markdown",
   "id": "c686352a",
   "metadata": {},
   "source": [
    "### 3-2 content & apple - other-tech"
   ]
  },
  {
   "cell_type": "code",
   "execution_count": 88,
   "id": "1bcfc8b7",
   "metadata": {},
   "outputs": [],
   "source": [
    "X = df[['content', 'if_apple']]  # , 'if_apple', 'if_useful'\n",
    "y = df['other-tech']\n",
    "# np.random.seed(42)\n",
    "# split the data in training and remaining dataset\n",
    "X_train, X_rem, y_train, y_rem = train_test_split(X, y, train_size=0.6, stratify=y)\n",
    "# split the remaining to validation and test \n",
    "X_valid, X_test, y_valid, y_test = train_test_split(X_rem, y_rem, train_size=0.5, stratify=y_rem)\n",
    "\n",
    "# TF-IDF \n",
    "tfidf_vectorizer = TfidfVectorizer()\n",
    "X_train_vectors_tfidf = tfidf_vectorizer.fit_transform(X_train.iloc[:, 0]) \n",
    "X_valid_vectors_tfidf = tfidf_vectorizer.transform(X_valid.iloc[:, 0]) \n",
    "# X_test_vectors_tfidf = tfidf_vectorizer.transform(X_test) "
   ]
  },
  {
   "cell_type": "code",
   "execution_count": 89,
   "id": "379e22b9",
   "metadata": {},
   "outputs": [
    {
     "name": "stdout",
     "output_type": "stream",
     "text": [
      "(3000, 1283)\n",
      "(1000, 1283)\n"
     ]
    }
   ],
   "source": [
    "X_train_vectors_tfidf = pd.DataFrame(X_train_vectors_tfidf.toarray()).join(X_train[['if_apple']].reset_index())\n",
    "X_valid_vectors_tfidf = pd.DataFrame(X_valid_vectors_tfidf.toarray()).join(X_valid[['if_apple']].reset_index())\n",
    "print(X_train_vectors_tfidf.shape)\n",
    "print(X_valid_vectors_tfidf.shape)"
   ]
  },
  {
   "cell_type": "code",
   "execution_count": 100,
   "id": "10d13c2e",
   "metadata": {},
   "outputs": [
    {
     "name": "stderr",
     "output_type": "stream",
     "text": [
      "/Users/anqizhu/opt/anaconda3/lib/python3.9/site-packages/sklearn/utils/validation.py:1688: FutureWarning: Feature names only support names that are all strings. Got feature names with dtypes: ['int', 'str']. An error will be raised in 1.2.\n",
      "  warnings.warn(\n",
      "/Users/anqizhu/opt/anaconda3/lib/python3.9/site-packages/sklearn/utils/validation.py:1688: FutureWarning: Feature names only support names that are all strings. Got feature names with dtypes: ['int', 'str']. An error will be raised in 1.2.\n",
      "  warnings.warn(\n",
      "/Users/anqizhu/opt/anaconda3/lib/python3.9/site-packages/sklearn/utils/validation.py:1688: FutureWarning: Feature names only support names that are all strings. Got feature names with dtypes: ['int', 'str']. An error will be raised in 1.2.\n",
      "  warnings.warn(\n",
      "/Users/anqizhu/opt/anaconda3/lib/python3.9/site-packages/sklearn/metrics/_classification.py:1318: UndefinedMetricWarning: Precision and F-score are ill-defined and being set to 0.0 in labels with no predicted samples. Use `zero_division` parameter to control this behavior.\n",
      "  _warn_prf(average, modifier, msg_start, len(result))\n",
      "/Users/anqizhu/opt/anaconda3/lib/python3.9/site-packages/sklearn/metrics/_classification.py:1318: UndefinedMetricWarning: Precision and F-score are ill-defined and being set to 0.0 in labels with no predicted samples. Use `zero_division` parameter to control this behavior.\n",
      "  _warn_prf(average, modifier, msg_start, len(result))\n",
      "/Users/anqizhu/opt/anaconda3/lib/python3.9/site-packages/sklearn/metrics/_classification.py:1318: UndefinedMetricWarning: Precision and F-score are ill-defined and being set to 0.0 in labels with no predicted samples. Use `zero_division` parameter to control this behavior.\n",
      "  _warn_prf(average, modifier, msg_start, len(result))\n",
      "/Users/anqizhu/opt/anaconda3/lib/python3.9/site-packages/sklearn/utils/validation.py:1688: FutureWarning: Feature names only support names that are all strings. Got feature names with dtypes: ['int', 'str']. An error will be raised in 1.2.\n",
      "  warnings.warn(\n"
     ]
    },
    {
     "name": "stdout",
     "output_type": "stream",
     "text": [
      "              precision    recall  f1-score   support\n",
      "\n",
      "          -1       0.00      0.00      0.00         8\n",
      "           0       0.99      1.00      0.99       987\n",
      "           1       0.00      0.00      0.00         5\n",
      "\n",
      "    accuracy                           0.99      1000\n",
      "   macro avg       0.33      0.33      0.33      1000\n",
      "weighted avg       0.97      0.99      0.98      1000\n",
      "\n",
      "Confusion Matrix:\n",
      " [[  0   8   0]\n",
      " [  0 987   0]\n",
      " [  0   5   0]]\n",
      "logistic_regression -------------------------\n"
     ]
    },
    {
     "name": "stderr",
     "output_type": "stream",
     "text": [
      "/Users/anqizhu/opt/anaconda3/lib/python3.9/site-packages/sklearn/utils/validation.py:1688: FutureWarning: Feature names only support names that are all strings. Got feature names with dtypes: ['int', 'str']. An error will be raised in 1.2.\n",
      "  warnings.warn(\n",
      "/Users/anqizhu/opt/anaconda3/lib/python3.9/site-packages/sklearn/utils/validation.py:1688: FutureWarning: Feature names only support names that are all strings. Got feature names with dtypes: ['int', 'str']. An error will be raised in 1.2.\n",
      "  warnings.warn(\n",
      "/Users/anqizhu/opt/anaconda3/lib/python3.9/site-packages/sklearn/utils/validation.py:1688: FutureWarning: Feature names only support names that are all strings. Got feature names with dtypes: ['int', 'str']. An error will be raised in 1.2.\n",
      "  warnings.warn(\n",
      "/Users/anqizhu/opt/anaconda3/lib/python3.9/site-packages/sklearn/utils/validation.py:1688: FutureWarning: Feature names only support names that are all strings. Got feature names with dtypes: ['int', 'str']. An error will be raised in 1.2.\n",
      "  warnings.warn(\n",
      "/Users/anqizhu/opt/anaconda3/lib/python3.9/site-packages/sklearn/utils/validation.py:1688: FutureWarning: Feature names only support names that are all strings. Got feature names with dtypes: ['int', 'str']. An error will be raised in 1.2.\n",
      "  warnings.warn(\n",
      "/Users/anqizhu/opt/anaconda3/lib/python3.9/site-packages/sklearn/metrics/_classification.py:1318: UndefinedMetricWarning: Precision and F-score are ill-defined and being set to 0.0 in labels with no predicted samples. Use `zero_division` parameter to control this behavior.\n",
      "  _warn_prf(average, modifier, msg_start, len(result))\n",
      "/Users/anqizhu/opt/anaconda3/lib/python3.9/site-packages/sklearn/metrics/_classification.py:1318: UndefinedMetricWarning: Precision and F-score are ill-defined and being set to 0.0 in labels with no predicted samples. Use `zero_division` parameter to control this behavior.\n",
      "  _warn_prf(average, modifier, msg_start, len(result))\n",
      "/Users/anqizhu/opt/anaconda3/lib/python3.9/site-packages/sklearn/metrics/_classification.py:1318: UndefinedMetricWarning: Precision and F-score are ill-defined and being set to 0.0 in labels with no predicted samples. Use `zero_division` parameter to control this behavior.\n",
      "  _warn_prf(average, modifier, msg_start, len(result))\n",
      "/Users/anqizhu/opt/anaconda3/lib/python3.9/site-packages/sklearn/utils/validation.py:1688: FutureWarning: Feature names only support names that are all strings. Got feature names with dtypes: ['int', 'str']. An error will be raised in 1.2.\n",
      "  warnings.warn(\n"
     ]
    },
    {
     "name": "stdout",
     "output_type": "stream",
     "text": [
      "              precision    recall  f1-score   support\n",
      "\n",
      "          -1       0.29      0.25      0.27         8\n",
      "           0       0.99      0.99      0.99       987\n",
      "           1       0.00      0.00      0.00         5\n",
      "\n",
      "    accuracy                           0.97      1000\n",
      "   macro avg       0.42      0.41      0.42      1000\n",
      "weighted avg       0.98      0.97      0.98      1000\n",
      "\n",
      "Confusion Matrix:\n",
      " [[  2   6   0]\n",
      " [  5 973   9]\n",
      " [  0   5   0]]\n",
      "decision_tree -------------------------\n",
      "              precision    recall  f1-score   support\n",
      "\n",
      "          -1       0.00      0.00      0.00         8\n",
      "           0       0.99      0.99      0.99       987\n",
      "           1       0.00      0.00      0.00         5\n",
      "\n",
      "    accuracy                           0.98      1000\n",
      "   macro avg       0.33      0.33      0.33      1000\n",
      "weighted avg       0.97      0.98      0.98      1000\n",
      "\n",
      "Confusion Matrix:\n",
      " [[  0   8   0]\n",
      " [  6 981   0]\n",
      " [  0   5   0]]\n",
      "naive_bayes -------------------------\n"
     ]
    },
    {
     "name": "stderr",
     "output_type": "stream",
     "text": [
      "/Users/anqizhu/opt/anaconda3/lib/python3.9/site-packages/sklearn/utils/validation.py:1688: FutureWarning: Feature names only support names that are all strings. Got feature names with dtypes: ['int', 'str']. An error will be raised in 1.2.\n",
      "  warnings.warn(\n",
      "/Users/anqizhu/opt/anaconda3/lib/python3.9/site-packages/sklearn/utils/validation.py:1688: FutureWarning: Feature names only support names that are all strings. Got feature names with dtypes: ['int', 'str']. An error will be raised in 1.2.\n",
      "  warnings.warn(\n",
      "/Users/anqizhu/opt/anaconda3/lib/python3.9/site-packages/sklearn/metrics/_classification.py:1318: UndefinedMetricWarning: Precision and F-score are ill-defined and being set to 0.0 in labels with no predicted samples. Use `zero_division` parameter to control this behavior.\n",
      "  _warn_prf(average, modifier, msg_start, len(result))\n",
      "/Users/anqizhu/opt/anaconda3/lib/python3.9/site-packages/sklearn/metrics/_classification.py:1318: UndefinedMetricWarning: Precision and F-score are ill-defined and being set to 0.0 in labels with no predicted samples. Use `zero_division` parameter to control this behavior.\n",
      "  _warn_prf(average, modifier, msg_start, len(result))\n",
      "/Users/anqizhu/opt/anaconda3/lib/python3.9/site-packages/sklearn/metrics/_classification.py:1318: UndefinedMetricWarning: Precision and F-score are ill-defined and being set to 0.0 in labels with no predicted samples. Use `zero_division` parameter to control this behavior.\n",
      "  _warn_prf(average, modifier, msg_start, len(result))\n",
      "/Users/anqizhu/opt/anaconda3/lib/python3.9/site-packages/sklearn/utils/validation.py:1688: FutureWarning: Feature names only support names that are all strings. Got feature names with dtypes: ['int', 'str']. An error will be raised in 1.2.\n",
      "  warnings.warn(\n"
     ]
    },
    {
     "name": "stdout",
     "output_type": "stream",
     "text": [
      "              precision    recall  f1-score   support\n",
      "\n",
      "          -1       0.00      0.00      0.00         8\n",
      "           0       0.99      1.00      0.99       987\n",
      "           1       0.00      0.00      0.00         5\n",
      "\n",
      "    accuracy                           0.99      1000\n",
      "   macro avg       0.33      0.33      0.33      1000\n",
      "weighted avg       0.97      0.99      0.98      1000\n",
      "\n",
      "Confusion Matrix:\n",
      " [[  0   8   0]\n",
      " [  0 987   0]\n",
      " [  0   5   0]]\n",
      "SVC -------------------------\n"
     ]
    },
    {
     "name": "stderr",
     "output_type": "stream",
     "text": [
      "/Users/anqizhu/opt/anaconda3/lib/python3.9/site-packages/sklearn/utils/validation.py:1688: FutureWarning: Feature names only support names that are all strings. Got feature names with dtypes: ['int', 'str']. An error will be raised in 1.2.\n",
      "  warnings.warn(\n",
      "/Users/anqizhu/opt/anaconda3/lib/python3.9/site-packages/sklearn/utils/validation.py:1688: FutureWarning: Feature names only support names that are all strings. Got feature names with dtypes: ['int', 'str']. An error will be raised in 1.2.\n",
      "  warnings.warn(\n",
      "/Users/anqizhu/opt/anaconda3/lib/python3.9/site-packages/sklearn/metrics/_classification.py:1318: UndefinedMetricWarning: Precision and F-score are ill-defined and being set to 0.0 in labels with no predicted samples. Use `zero_division` parameter to control this behavior.\n",
      "  _warn_prf(average, modifier, msg_start, len(result))\n",
      "/Users/anqizhu/opt/anaconda3/lib/python3.9/site-packages/sklearn/metrics/_classification.py:1318: UndefinedMetricWarning: Precision and F-score are ill-defined and being set to 0.0 in labels with no predicted samples. Use `zero_division` parameter to control this behavior.\n",
      "  _warn_prf(average, modifier, msg_start, len(result))\n",
      "/Users/anqizhu/opt/anaconda3/lib/python3.9/site-packages/sklearn/metrics/_classification.py:1318: UndefinedMetricWarning: Precision and F-score are ill-defined and being set to 0.0 in labels with no predicted samples. Use `zero_division` parameter to control this behavior.\n",
      "  _warn_prf(average, modifier, msg_start, len(result))\n",
      "/Users/anqizhu/opt/anaconda3/lib/python3.9/site-packages/sklearn/utils/validation.py:1688: FutureWarning: Feature names only support names that are all strings. Got feature names with dtypes: ['int', 'str']. An error will be raised in 1.2.\n",
      "  warnings.warn(\n"
     ]
    },
    {
     "name": "stdout",
     "output_type": "stream",
     "text": [
      "              precision    recall  f1-score   support\n",
      "\n",
      "          -1       0.00      0.00      0.00         8\n",
      "           0       0.99      1.00      0.99       987\n",
      "           1       0.00      0.00      0.00         5\n",
      "\n",
      "    accuracy                           0.99      1000\n",
      "   macro avg       0.33      0.33      0.33      1000\n",
      "weighted avg       0.97      0.99      0.98      1000\n",
      "\n",
      "Confusion Matrix:\n",
      " [[  0   8   0]\n",
      " [  0 987   0]\n",
      " [  0   5   0]]\n",
      "SGD -------------------------\n",
      "              precision    recall  f1-score   support\n",
      "\n",
      "          -1       0.00      0.00      0.00         8\n",
      "           0       0.99      1.00      0.99       987\n",
      "           1       0.00      0.00      0.00         5\n",
      "\n",
      "    accuracy                           0.99      1000\n",
      "   macro avg       0.33      0.33      0.33      1000\n",
      "weighted avg       0.97      0.99      0.98      1000\n",
      "\n",
      "Confusion Matrix:\n",
      " [[  0   8   0]\n",
      " [  0 987   0]\n",
      " [  0   5   0]]\n",
      "NN -------------------------\n"
     ]
    },
    {
     "name": "stderr",
     "output_type": "stream",
     "text": [
      "/Users/anqizhu/opt/anaconda3/lib/python3.9/site-packages/sklearn/utils/validation.py:1688: FutureWarning: Feature names only support names that are all strings. Got feature names with dtypes: ['int', 'str']. An error will be raised in 1.2.\n",
      "  warnings.warn(\n",
      "/Users/anqizhu/opt/anaconda3/lib/python3.9/site-packages/sklearn/utils/validation.py:1688: FutureWarning: Feature names only support names that are all strings. Got feature names with dtypes: ['int', 'str']. An error will be raised in 1.2.\n",
      "  warnings.warn(\n",
      "/Users/anqizhu/opt/anaconda3/lib/python3.9/site-packages/sklearn/metrics/_classification.py:1318: UndefinedMetricWarning: Precision and F-score are ill-defined and being set to 0.0 in labels with no predicted samples. Use `zero_division` parameter to control this behavior.\n",
      "  _warn_prf(average, modifier, msg_start, len(result))\n",
      "/Users/anqizhu/opt/anaconda3/lib/python3.9/site-packages/sklearn/metrics/_classification.py:1318: UndefinedMetricWarning: Precision and F-score are ill-defined and being set to 0.0 in labels with no predicted samples. Use `zero_division` parameter to control this behavior.\n",
      "  _warn_prf(average, modifier, msg_start, len(result))\n",
      "/Users/anqizhu/opt/anaconda3/lib/python3.9/site-packages/sklearn/metrics/_classification.py:1318: UndefinedMetricWarning: Precision and F-score are ill-defined and being set to 0.0 in labels with no predicted samples. Use `zero_division` parameter to control this behavior.\n",
      "  _warn_prf(average, modifier, msg_start, len(result))\n"
     ]
    }
   ],
   "source": [
    "models = ['logistic_regression', 'decision_tree', 'naive_bayes', 'SVC', 'SGD', 'NN'] # \n",
    "for md in models:\n",
    "    clf = train_models(X_train_vectors_tfidf, y_train, md)\n",
    "    evaluate_models(md, clf, X_valid_vectors_tfidf, y_valid)\n"
   ]
  },
  {
   "cell_type": "code",
   "execution_count": 91,
   "id": "178b6bc4",
   "metadata": {},
   "outputs": [
    {
     "data": {
      "text/plain": [
       "0.9065241524152414"
      ]
     },
     "execution_count": 91,
     "metadata": {},
     "output_type": "execute_result"
    }
   ],
   "source": [
    "baseline(X_train_vectors_tfidf, y_train, X_valid_vectors_tfidf, y_valid)"
   ]
  },
  {
   "cell_type": "code",
   "execution_count": 108,
   "id": "01abb7ed",
   "metadata": {},
   "outputs": [
    {
     "data": {
      "text/html": [
       "<div>\n",
       "<style scoped>\n",
       "    .dataframe tbody tr th:only-of-type {\n",
       "        vertical-align: middle;\n",
       "    }\n",
       "\n",
       "    .dataframe tbody tr th {\n",
       "        vertical-align: top;\n",
       "    }\n",
       "\n",
       "    .dataframe thead th {\n",
       "        text-align: right;\n",
       "    }\n",
       "</style>\n",
       "<table border=\"1\" class=\"dataframe\">\n",
       "  <thead>\n",
       "    <tr style=\"text-align: right;\">\n",
       "      <th></th>\n",
       "      <th>Unnamed: 0</th>\n",
       "      <th>userName</th>\n",
       "      <th>date</th>\n",
       "      <th>content</th>\n",
       "      <th>score</th>\n",
       "      <th>if_apple</th>\n",
       "      <th>if_useful</th>\n",
       "      <th>crush</th>\n",
       "      <th>data</th>\n",
       "      <th>keyboard</th>\n",
       "      <th>time/life</th>\n",
       "      <th>IP</th>\n",
       "    </tr>\n",
       "  </thead>\n",
       "  <tbody>\n",
       "    <tr>\n",
       "      <th>0</th>\n",
       "      <td>0</td>\n",
       "      <td>Jocelyn Sy</td>\n",
       "      <td>2022-10-27 18:10:20</td>\n",
       "      <td>fun</td>\n",
       "      <td>5</td>\n",
       "      <td>0</td>\n",
       "      <td>0.0</td>\n",
       "      <td>0.0</td>\n",
       "      <td>0.0</td>\n",
       "      <td>0.0</td>\n",
       "      <td>0.0</td>\n",
       "      <td>0.0</td>\n",
       "    </tr>\n",
       "    <tr>\n",
       "      <th>1</th>\n",
       "      <td>1</td>\n",
       "      <td>crystal may</td>\n",
       "      <td>2022-10-27 12:17:07</td>\n",
       "      <td>aw matter game close progress spent coin gem l...</td>\n",
       "      <td>1</td>\n",
       "      <td>0</td>\n",
       "      <td>1.0</td>\n",
       "      <td>0.0</td>\n",
       "      <td>-1.0</td>\n",
       "      <td>0.0</td>\n",
       "      <td>0.0</td>\n",
       "      <td>0.0</td>\n",
       "    </tr>\n",
       "    <tr>\n",
       "      <th>2</th>\n",
       "      <td>2</td>\n",
       "      <td>Coreter</td>\n",
       "      <td>2022-10-27 07:07:17</td>\n",
       "      <td>cool</td>\n",
       "      <td>5</td>\n",
       "      <td>0</td>\n",
       "      <td>0.0</td>\n",
       "      <td>0.0</td>\n",
       "      <td>0.0</td>\n",
       "      <td>0.0</td>\n",
       "      <td>0.0</td>\n",
       "      <td>0.0</td>\n",
       "    </tr>\n",
       "    <tr>\n",
       "      <th>3</th>\n",
       "      <td>3</td>\n",
       "      <td>Jordan Christie</td>\n",
       "      <td>2022-10-26 15:11:40</td>\n",
       "      <td>use love game recent new go sync progress acco...</td>\n",
       "      <td>2</td>\n",
       "      <td>0</td>\n",
       "      <td>1.0</td>\n",
       "      <td>0.0</td>\n",
       "      <td>0.0</td>\n",
       "      <td>0.0</td>\n",
       "      <td>0.0</td>\n",
       "      <td>0.0</td>\n",
       "    </tr>\n",
       "    <tr>\n",
       "      <th>4</th>\n",
       "      <td>4</td>\n",
       "      <td>Heather Nicole</td>\n",
       "      <td>2022-10-26 03:42:00</td>\n",
       "      <td>love game dont know shut time clear make sure ...</td>\n",
       "      <td>4</td>\n",
       "      <td>0</td>\n",
       "      <td>1.0</td>\n",
       "      <td>0.0</td>\n",
       "      <td>0.0</td>\n",
       "      <td>0.0</td>\n",
       "      <td>0.0</td>\n",
       "      <td>0.0</td>\n",
       "    </tr>\n",
       "  </tbody>\n",
       "</table>\n",
       "</div>"
      ],
      "text/plain": [
       "   Unnamed: 0         userName                 date  \\\n",
       "0           0       Jocelyn Sy  2022-10-27 18:10:20   \n",
       "1           1      crystal may  2022-10-27 12:17:07   \n",
       "2           2          Coreter  2022-10-27 07:07:17   \n",
       "3           3  Jordan Christie  2022-10-26 15:11:40   \n",
       "4           4   Heather Nicole  2022-10-26 03:42:00   \n",
       "\n",
       "                                             content  score  if_apple  \\\n",
       "0                                                fun      5         0   \n",
       "1  aw matter game close progress spent coin gem l...      1         0   \n",
       "2                                               cool      5         0   \n",
       "3  use love game recent new go sync progress acco...      2         0   \n",
       "4  love game dont know shut time clear make sure ...      4         0   \n",
       "\n",
       "   if_useful  crush  data  keyboard  time/life   IP  \n",
       "0        0.0    0.0   0.0       0.0        0.0  0.0  \n",
       "1        1.0    0.0  -1.0       0.0        0.0  0.0  \n",
       "2        0.0    0.0   0.0       0.0        0.0  0.0  \n",
       "3        1.0    0.0   0.0       0.0        0.0  0.0  \n",
       "4        1.0    0.0   0.0       0.0        0.0  0.0  "
      ]
     },
     "execution_count": 108,
     "metadata": {},
     "output_type": "execute_result"
    }
   ],
   "source": [
    "df_all = pd.read_csv('EMB_all.csv')\n",
    "df_all.head()"
   ]
  },
  {
   "cell_type": "code",
   "execution_count": 109,
   "id": "2726ce55",
   "metadata": {},
   "outputs": [
    {
     "name": "stdout",
     "output_type": "stream",
     "text": [
      "<class 'pandas.core.frame.DataFrame'>\n",
      "RangeIndex: 170701 entries, 0 to 170700\n",
      "Data columns (total 12 columns):\n",
      " #   Column      Non-Null Count   Dtype  \n",
      "---  ------      --------------   -----  \n",
      " 0   Unnamed: 0  170701 non-null  int64  \n",
      " 1   userName    170701 non-null  object \n",
      " 2   date        170701 non-null  object \n",
      " 3   content     163658 non-null  object \n",
      " 4   score       170701 non-null  int64  \n",
      " 5   if_apple    170701 non-null  int64  \n",
      " 6   if_useful   170701 non-null  float64\n",
      " 7   crush       170701 non-null  float64\n",
      " 8   data        170701 non-null  float64\n",
      " 9   keyboard    170701 non-null  float64\n",
      " 10  time/life   170701 non-null  float64\n",
      " 11  IP          170701 non-null  float64\n",
      "dtypes: float64(6), int64(3), object(3)\n",
      "memory usage: 15.6+ MB\n"
     ]
    }
   ],
   "source": [
    "df_all.info()"
   ]
  },
  {
   "cell_type": "code",
   "execution_count": 111,
   "id": "ba7b77b3",
   "metadata": {},
   "outputs": [
    {
     "name": "stdout",
     "output_type": "stream",
     "text": [
      "<class 'pandas.core.frame.DataFrame'>\n",
      "RangeIndex: 170701 entries, 0 to 170700\n",
      "Data columns (total 12 columns):\n",
      " #   Column      Non-Null Count   Dtype  \n",
      "---  ------      --------------   -----  \n",
      " 0   Unnamed: 0  170701 non-null  int64  \n",
      " 1   userName    170701 non-null  object \n",
      " 2   date        170701 non-null  object \n",
      " 3   content     170701 non-null  object \n",
      " 4   score       170701 non-null  int64  \n",
      " 5   if_apple    170701 non-null  int64  \n",
      " 6   if_useful   170701 non-null  float64\n",
      " 7   crush       170701 non-null  float64\n",
      " 8   data        170701 non-null  float64\n",
      " 9   keyboard    170701 non-null  float64\n",
      " 10  time/life   170701 non-null  float64\n",
      " 11  IP          170701 non-null  float64\n",
      "dtypes: float64(6), int64(3), object(3)\n",
      "memory usage: 15.6+ MB\n"
     ]
    }
   ],
   "source": [
    "df_all['content'] = df_all['content'].fillna(' ').astype('string')\n",
    "df_all['content'] = df_all['content'].apply(clean_text)\n",
    "df_all.info()"
   ]
  },
  {
   "cell_type": "code",
   "execution_count": 112,
   "id": "7e20dfd8",
   "metadata": {},
   "outputs": [],
   "source": [
    "# 1-1 DT \n",
    "\n",
    "X = df['content'] \n",
    "y = df['system upgrad']\n",
    "# np.random.seed(42)\n",
    "# split the data in training and remaining dataset\n",
    "X_train, X_rem, y_train, y_rem = train_test_split(X, y, train_size=0.6, stratify=y)\n",
    "# split the remaining to validation and test \n",
    "# X_valid, X_test, y_valid, y_test = train_test_split(X_rem, y_rem, train_size=0.5, stratify=y_rem)\n",
    "\n",
    "# TF-IDF \n",
    "tfidf_vectorizer = TfidfVectorizer()\n",
    "X_train_vectors_tfidf = tfidf_vectorizer.fit_transform(X_train) \n",
    "# X_valid_vectors_tfidf = tfidf_vectorizer.transform(X_valid) \n",
    "# X_test_vectors_tfidf = tfidf_vectorizer.transform(X_test) \n",
    "X_pred_vectors_tfidf = tfidf_vectorizer.transform(df_all['content']) \n",
    "\n",
    "clf = tree.DecisionTreeClassifier()\n",
    "clf = clf.fit(X_train_vectors_tfidf, y_train)  \n",
    "y_predict_sys = clf.predict(X_pred_vectors_tfidf)\n",
    "   "
   ]
  },
  {
   "cell_type": "code",
   "execution_count": 116,
   "id": "6d27b63f",
   "metadata": {},
   "outputs": [],
   "source": [
    "# 2-1 SGD\n",
    "\n",
    "X = df['content'] \n",
    "y = df['connection']\n",
    "# np.random.seed(42)\n",
    "# split the data in training and remaining dataset\n",
    "X_train, X_rem, y_train, y_rem = train_test_split(X, y, train_size=0.6, stratify=y)\n",
    "# split the remaining to validation and test \n",
    "# X_valid, X_test, y_valid, y_test = train_test_split(X_rem, y_rem, train_size=0.5, stratify=y_rem)\n",
    "\n",
    "# TF-IDF \n",
    "tfidf_vectorizer = TfidfVectorizer()\n",
    "X_train_vectors_tfidf = tfidf_vectorizer.fit_transform(X_train) \n",
    "# X_valid_vectors_tfidf = tfidf_vectorizer.transform(X_valid) \n",
    "# X_test_vectors_tfidf = tfidf_vectorizer.transform(X_test) \n",
    "X_pred_vectors_tfidf = tfidf_vectorizer.transform(df_all['content']) \n",
    "\n",
    "clf = SGDClassifier(loss='modified_huber')\n",
    "clf = clf.fit(X_train_vectors_tfidf, y_train)  \n",
    "y_predict_conn = clf.predict(X_pred_vectors_tfidf)\n",
    "   "
   ]
  },
  {
   "cell_type": "code",
   "execution_count": 117,
   "id": "87ce21e9",
   "metadata": {},
   "outputs": [
    {
     "name": "stdout",
     "output_type": "stream",
     "text": [
      "(3000, 1326)\n",
      "(170701, 1326)\n"
     ]
    },
    {
     "name": "stderr",
     "output_type": "stream",
     "text": [
      "/Users/anqizhu/opt/anaconda3/lib/python3.9/site-packages/sklearn/utils/validation.py:1688: FutureWarning: Feature names only support names that are all strings. Got feature names with dtypes: ['int', 'str']. An error will be raised in 1.2.\n",
      "  warnings.warn(\n",
      "/Users/anqizhu/opt/anaconda3/lib/python3.9/site-packages/sklearn/utils/validation.py:1688: FutureWarning: Feature names only support names that are all strings. Got feature names with dtypes: ['int', 'str']. An error will be raised in 1.2.\n",
      "  warnings.warn(\n"
     ]
    }
   ],
   "source": [
    "# 3-3 DT\n",
    "\n",
    "X = df[['content', 'if_apple', 'if_useful']] \n",
    "y = df['other-tech']\n",
    "# np.random.seed(42)\n",
    "# split the data in training and remaining dataset\n",
    "X_train, X_rem, y_train, y_rem = train_test_split(X, y, train_size=0.6, stratify=y)\n",
    "# split the remaining to validation and test \n",
    "# X_valid, X_test, y_valid, y_test = train_test_split(X_rem, y_rem, train_size=0.5, stratify=y_rem)\n",
    "\n",
    "# TF-IDF \n",
    "tfidf_vectorizer = TfidfVectorizer()\n",
    "X_train_vectors_tfidf = tfidf_vectorizer.fit_transform(X_train.iloc[:, 0]) \n",
    "# X_valid_vectors_tfidf = tfidf_vectorizer.transform(X_valid.iloc[:, 0]) \n",
    "# X_test_vectors_tfidf = tfidf_vectorizer.transform(X_test) \n",
    "X_pred_vectors_tfidf = tfidf_vectorizer.transform(df_all['content']) \n",
    "\n",
    "X_train_vectors_tfidf = pd.DataFrame(X_train_vectors_tfidf.toarray()).join(X_train[['if_apple', 'if_useful']].reset_index())\n",
    "X_pred_vectors_tfidf = pd.DataFrame(X_pred_vectors_tfidf.toarray()).join(df_all[['if_apple', 'if_useful']].reset_index())\n",
    "print(X_train_vectors_tfidf.shape)\n",
    "print(X_pred_vectors_tfidf.shape)\n",
    "\n",
    "\n",
    "clf = tree.DecisionTreeClassifier()\n",
    "clf = clf.fit(X_train_vectors_tfidf, y_train)  \n",
    "y_predict_other = clf.predict(X_pred_vectors_tfidf)\n",
    "   "
   ]
  },
  {
   "cell_type": "code",
   "execution_count": 127,
   "id": "c84c0930",
   "metadata": {},
   "outputs": [],
   "source": [
    "df_output = pd.read_csv('EMB_all.csv')"
   ]
  },
  {
   "cell_type": "code",
   "execution_count": 128,
   "id": "f831038e",
   "metadata": {},
   "outputs": [],
   "source": [
    "df_output['system upgrad'] = y_predict_sys\n",
    "df_output['connection'] = y_predict_conn\n",
    "df_output['other-tech'] = y_predict_other"
   ]
  },
  {
   "cell_type": "code",
   "execution_count": 129,
   "id": "71fbd2a9",
   "metadata": {},
   "outputs": [
    {
     "name": "stdout",
     "output_type": "stream",
     "text": [
      "<class 'pandas.core.frame.DataFrame'>\n",
      "RangeIndex: 170701 entries, 0 to 170700\n",
      "Data columns (total 15 columns):\n",
      " #   Column         Non-Null Count   Dtype  \n",
      "---  ------         --------------   -----  \n",
      " 0   Unnamed: 0     170701 non-null  int64  \n",
      " 1   userName       170701 non-null  object \n",
      " 2   date           170701 non-null  object \n",
      " 3   content        163658 non-null  object \n",
      " 4   score          170701 non-null  int64  \n",
      " 5   if_apple       170701 non-null  int64  \n",
      " 6   if_useful      170701 non-null  float64\n",
      " 7   crush          170701 non-null  float64\n",
      " 8   data           170701 non-null  float64\n",
      " 9   keyboard       170701 non-null  float64\n",
      " 10  time/life      170701 non-null  float64\n",
      " 11  IP             170701 non-null  float64\n",
      " 12  system upgrad  170701 non-null  int64  \n",
      " 13  connection     170701 non-null  int64  \n",
      " 14  other-tech     170701 non-null  int64  \n",
      "dtypes: float64(6), int64(6), object(3)\n",
      "memory usage: 19.5+ MB\n"
     ]
    }
   ],
   "source": [
    "df_output.info()"
   ]
  },
  {
   "cell_type": "code",
   "execution_count": 135,
   "id": "bbb739e8",
   "metadata": {},
   "outputs": [],
   "source": [
    "df_output.to_csv('EMB_all_zaqzaq.csv', index = False)"
   ]
  },
  {
   "cell_type": "code",
   "execution_count": 137,
   "id": "92dbce4f",
   "metadata": {},
   "outputs": [
    {
     "name": "stdout",
     "output_type": "stream",
     "text": [
      "<class 'pandas.core.frame.DataFrame'>\n",
      "RangeIndex: 170701 entries, 0 to 170700\n",
      "Data columns (total 15 columns):\n",
      " #   Column         Non-Null Count   Dtype  \n",
      "---  ------         --------------   -----  \n",
      " 0   Unnamed: 0     170701 non-null  int64  \n",
      " 1   userName       170701 non-null  object \n",
      " 2   date           170701 non-null  object \n",
      " 3   content        163658 non-null  object \n",
      " 4   score          170701 non-null  int64  \n",
      " 5   if_apple       170701 non-null  int64  \n",
      " 6   if_useful      170701 non-null  float64\n",
      " 7   crush          170701 non-null  float64\n",
      " 8   data           170701 non-null  float64\n",
      " 9   keyboard       170701 non-null  float64\n",
      " 10  time/life      170701 non-null  float64\n",
      " 11  IP             170701 non-null  float64\n",
      " 12  system upgrad  170701 non-null  int64  \n",
      " 13  connection     170701 non-null  int64  \n",
      " 14  other-tech     170701 non-null  int64  \n",
      "dtypes: float64(6), int64(6), object(3)\n",
      "memory usage: 19.5+ MB\n"
     ]
    }
   ],
   "source": [
    "pd.read_csv('EMB_all_zaqzaq.csv').info()"
   ]
  }
 ],
 "metadata": {
  "kernelspec": {
   "display_name": "Python 3 (ipykernel)",
   "language": "python",
   "name": "python3"
  },
  "language_info": {
   "codemirror_mode": {
    "name": "ipython",
    "version": 3
   },
   "file_extension": ".py",
   "mimetype": "text/x-python",
   "name": "python",
   "nbconvert_exporter": "python",
   "pygments_lexer": "ipython3",
   "version": "3.9.12"
  }
 },
 "nbformat": 4,
 "nbformat_minor": 5
}
